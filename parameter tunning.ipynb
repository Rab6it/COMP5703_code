{
 "cells": [
  {
   "cell_type": "code",
   "execution_count": 44,
   "id": "5e53f3a8",
   "metadata": {},
   "outputs": [],
   "source": [
    "import pandas as pd\n",
    "from sklearn import metrics\n",
    "import numpy as np\n",
    "train = pd.read_csv('training set.csv')\n",
    "test = pd.read_csv('testing set.csv')\n",
    "y_train = pd.read_csv('training y.csv')\n",
    "y_test = pd.read_csv('testing y.csv')"
   ]
  },
  {
   "cell_type": "code",
   "execution_count": 26,
   "id": "aecbd972",
   "metadata": {},
   "outputs": [
    {
     "name": "stdout",
     "output_type": "stream",
     "text": [
      "60.42022490501404\n",
      "LogisticRegression(C=0.3, l1_ratio=0.7, penalty='elasticnet', random_state=41,\n",
      "                   solver='saga')\n"
     ]
    }
   ],
   "source": [
    "import time\n",
    "from sklearn.linear_model import LogisticRegression\n",
    "from sklearn.model_selection import GridSearchCV\n",
    "time1 = time.time()\n",
    "tuning_parameters = {\n",
    "    'C': [0.01,0.1,0.3,0.5,1],\n",
    "'l1_ratio':[0.01,0.1,0.3,0.5,0.7,1]}\n",
    "lr = LogisticRegression(random_state=41,penalty = 'elasticnet',solver='saga')\n",
    "clf = GridSearchCV(lr, tuning_parameters,scoring = 'balanced_accuracy',cv=5)\n",
    "clf.fit(train, np.ravel(y_train))\n",
    "time2 = time.time()\n",
    "print(time2-time1)\n",
    "print(clf.best_estimator_)"
   ]
  },
  {
   "cell_type": "code",
   "execution_count": 57,
   "id": "928f5be0",
   "metadata": {},
   "outputs": [
    {
     "name": "stdout",
     "output_type": "stream",
     "text": [
      "5.58234977722168\n",
      "RandomForestClassifier(max_depth=1, random_state=41)\n"
     ]
    }
   ],
   "source": [
    "\n",
    "time1 = time.time()\n",
    "tuning_parameters = {\n",
    "    'min_samples_leaf': np.arange(1, train.shape[1], 15),\n",
    "    'max_depth': np.arange(1, train.shape[1], 15),\n",
    "    'min_samples_split': np.arange(2, train.shape[1], 15)}\n",
    "rf = RandomForestClassifier(n_estimators = 100,random_state = 41)\n",
    "clf = GridSearchCV(rf, tuning_parameters,scoring = 'balanced_accuracy',cv=5)\n",
    "clf.fit(train, np.ravel(y_train))\n",
    "time2 = time.time()\n",
    "print(time2-time1)\n",
    "print(clf.best_estimator_)"
   ]
  },
  {
   "cell_type": "code",
   "execution_count": null,
   "id": "c6c15ee5",
   "metadata": {},
   "outputs": [],
   "source": []
  }
 ],
 "metadata": {
  "kernelspec": {
   "display_name": "Python 3",
   "language": "python",
   "name": "python3"
  },
  "language_info": {
   "codemirror_mode": {
    "name": "ipython",
    "version": 3
   },
   "file_extension": ".py",
   "mimetype": "text/x-python",
   "name": "python",
   "nbconvert_exporter": "python",
   "pygments_lexer": "ipython3",
   "version": "3.8.8"
  },
  "varInspector": {
   "cols": {
    "lenName": 16,
    "lenType": 16,
    "lenVar": 40
   },
   "kernels_config": {
    "python": {
     "delete_cmd_postfix": "",
     "delete_cmd_prefix": "del ",
     "library": "var_list.py",
     "varRefreshCmd": "print(var_dic_list())"
    },
    "r": {
     "delete_cmd_postfix": ") ",
     "delete_cmd_prefix": "rm(",
     "library": "var_list.r",
     "varRefreshCmd": "cat(var_dic_list()) "
    }
   },
   "types_to_exclude": [
    "module",
    "function",
    "builtin_function_or_method",
    "instance",
    "_Feature"
   ],
   "window_display": false
  }
 },
 "nbformat": 4,
 "nbformat_minor": 5
}
