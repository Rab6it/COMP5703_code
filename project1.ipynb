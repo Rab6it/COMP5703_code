{
 "cells": [
  {
   "cell_type": "markdown",
   "id": "cd71e341",
   "metadata": {},
   "source": [
    "#  load dataset "
   ]
  },
  {
   "cell_type": "code",
   "execution_count": 1,
   "id": "e88b876e",
   "metadata": {},
   "outputs": [],
   "source": [
    "import pandas as pd\n",
    "import seaborn as sns\n",
    "import matplotlib.pyplot as plt\n",
    "import numpy as np\n",
    "import seaborn as sns\n",
    "import warnings\n",
    "\n",
    "from sklearn import metrics\n",
    "\n",
    "warnings.filterwarnings('ignore')\n",
    "\n",
    "sns.set(rc={'figure.figsize':(7.5,3.8)})\n",
    "data = pd.read_csv(\"diabetic_data.csv\")"
   ]
  },
  {
   "cell_type": "code",
   "execution_count": 2,
   "id": "f597ae29",
   "metadata": {},
   "outputs": [
    {
     "data": {
      "text/html": [
       "<div>\n",
       "<style scoped>\n",
       "    .dataframe tbody tr th:only-of-type {\n",
       "        vertical-align: middle;\n",
       "    }\n",
       "\n",
       "    .dataframe tbody tr th {\n",
       "        vertical-align: top;\n",
       "    }\n",
       "\n",
       "    .dataframe thead th {\n",
       "        text-align: right;\n",
       "    }\n",
       "</style>\n",
       "<table border=\"1\" class=\"dataframe\">\n",
       "  <thead>\n",
       "    <tr style=\"text-align: right;\">\n",
       "      <th></th>\n",
       "      <th>encounter_id</th>\n",
       "      <th>patient_nbr</th>\n",
       "      <th>race</th>\n",
       "      <th>gender</th>\n",
       "      <th>age</th>\n",
       "      <th>weight</th>\n",
       "      <th>admission_type_id</th>\n",
       "      <th>discharge_disposition_id</th>\n",
       "      <th>admission_source_id</th>\n",
       "      <th>time_in_hospital</th>\n",
       "      <th>...</th>\n",
       "      <th>citoglipton</th>\n",
       "      <th>insulin</th>\n",
       "      <th>glyburide-metformin</th>\n",
       "      <th>glipizide-metformin</th>\n",
       "      <th>glimepiride-pioglitazone</th>\n",
       "      <th>metformin-rosiglitazone</th>\n",
       "      <th>metformin-pioglitazone</th>\n",
       "      <th>change</th>\n",
       "      <th>diabetesMed</th>\n",
       "      <th>readmitted</th>\n",
       "    </tr>\n",
       "  </thead>\n",
       "  <tbody>\n",
       "    <tr>\n",
       "      <th>0</th>\n",
       "      <td>2278392</td>\n",
       "      <td>8222157</td>\n",
       "      <td>Caucasian</td>\n",
       "      <td>Female</td>\n",
       "      <td>[0-10)</td>\n",
       "      <td>?</td>\n",
       "      <td>6</td>\n",
       "      <td>25</td>\n",
       "      <td>1</td>\n",
       "      <td>1</td>\n",
       "      <td>...</td>\n",
       "      <td>No</td>\n",
       "      <td>No</td>\n",
       "      <td>No</td>\n",
       "      <td>No</td>\n",
       "      <td>No</td>\n",
       "      <td>No</td>\n",
       "      <td>No</td>\n",
       "      <td>No</td>\n",
       "      <td>No</td>\n",
       "      <td>NO</td>\n",
       "    </tr>\n",
       "    <tr>\n",
       "      <th>1</th>\n",
       "      <td>149190</td>\n",
       "      <td>55629189</td>\n",
       "      <td>Caucasian</td>\n",
       "      <td>Female</td>\n",
       "      <td>[10-20)</td>\n",
       "      <td>?</td>\n",
       "      <td>1</td>\n",
       "      <td>1</td>\n",
       "      <td>7</td>\n",
       "      <td>3</td>\n",
       "      <td>...</td>\n",
       "      <td>No</td>\n",
       "      <td>Up</td>\n",
       "      <td>No</td>\n",
       "      <td>No</td>\n",
       "      <td>No</td>\n",
       "      <td>No</td>\n",
       "      <td>No</td>\n",
       "      <td>Ch</td>\n",
       "      <td>Yes</td>\n",
       "      <td>&gt;30</td>\n",
       "    </tr>\n",
       "    <tr>\n",
       "      <th>2</th>\n",
       "      <td>64410</td>\n",
       "      <td>86047875</td>\n",
       "      <td>AfricanAmerican</td>\n",
       "      <td>Female</td>\n",
       "      <td>[20-30)</td>\n",
       "      <td>?</td>\n",
       "      <td>1</td>\n",
       "      <td>1</td>\n",
       "      <td>7</td>\n",
       "      <td>2</td>\n",
       "      <td>...</td>\n",
       "      <td>No</td>\n",
       "      <td>No</td>\n",
       "      <td>No</td>\n",
       "      <td>No</td>\n",
       "      <td>No</td>\n",
       "      <td>No</td>\n",
       "      <td>No</td>\n",
       "      <td>No</td>\n",
       "      <td>Yes</td>\n",
       "      <td>NO</td>\n",
       "    </tr>\n",
       "    <tr>\n",
       "      <th>3</th>\n",
       "      <td>500364</td>\n",
       "      <td>82442376</td>\n",
       "      <td>Caucasian</td>\n",
       "      <td>Male</td>\n",
       "      <td>[30-40)</td>\n",
       "      <td>?</td>\n",
       "      <td>1</td>\n",
       "      <td>1</td>\n",
       "      <td>7</td>\n",
       "      <td>2</td>\n",
       "      <td>...</td>\n",
       "      <td>No</td>\n",
       "      <td>Up</td>\n",
       "      <td>No</td>\n",
       "      <td>No</td>\n",
       "      <td>No</td>\n",
       "      <td>No</td>\n",
       "      <td>No</td>\n",
       "      <td>Ch</td>\n",
       "      <td>Yes</td>\n",
       "      <td>NO</td>\n",
       "    </tr>\n",
       "    <tr>\n",
       "      <th>4</th>\n",
       "      <td>16680</td>\n",
       "      <td>42519267</td>\n",
       "      <td>Caucasian</td>\n",
       "      <td>Male</td>\n",
       "      <td>[40-50)</td>\n",
       "      <td>?</td>\n",
       "      <td>1</td>\n",
       "      <td>1</td>\n",
       "      <td>7</td>\n",
       "      <td>1</td>\n",
       "      <td>...</td>\n",
       "      <td>No</td>\n",
       "      <td>Steady</td>\n",
       "      <td>No</td>\n",
       "      <td>No</td>\n",
       "      <td>No</td>\n",
       "      <td>No</td>\n",
       "      <td>No</td>\n",
       "      <td>Ch</td>\n",
       "      <td>Yes</td>\n",
       "      <td>NO</td>\n",
       "    </tr>\n",
       "  </tbody>\n",
       "</table>\n",
       "<p>5 rows × 50 columns</p>\n",
       "</div>"
      ],
      "text/plain": [
       "   encounter_id  patient_nbr             race  gender      age weight  \\\n",
       "0       2278392      8222157        Caucasian  Female   [0-10)      ?   \n",
       "1        149190     55629189        Caucasian  Female  [10-20)      ?   \n",
       "2         64410     86047875  AfricanAmerican  Female  [20-30)      ?   \n",
       "3        500364     82442376        Caucasian    Male  [30-40)      ?   \n",
       "4         16680     42519267        Caucasian    Male  [40-50)      ?   \n",
       "\n",
       "   admission_type_id  discharge_disposition_id  admission_source_id  \\\n",
       "0                  6                        25                    1   \n",
       "1                  1                         1                    7   \n",
       "2                  1                         1                    7   \n",
       "3                  1                         1                    7   \n",
       "4                  1                         1                    7   \n",
       "\n",
       "   time_in_hospital  ... citoglipton insulin  glyburide-metformin  \\\n",
       "0                 1  ...          No      No                   No   \n",
       "1                 3  ...          No      Up                   No   \n",
       "2                 2  ...          No      No                   No   \n",
       "3                 2  ...          No      Up                   No   \n",
       "4                 1  ...          No  Steady                   No   \n",
       "\n",
       "   glipizide-metformin  glimepiride-pioglitazone  metformin-rosiglitazone  \\\n",
       "0                   No                        No                       No   \n",
       "1                   No                        No                       No   \n",
       "2                   No                        No                       No   \n",
       "3                   No                        No                       No   \n",
       "4                   No                        No                       No   \n",
       "\n",
       "   metformin-pioglitazone  change diabetesMed readmitted  \n",
       "0                      No      No          No         NO  \n",
       "1                      No      Ch         Yes        >30  \n",
       "2                      No      No         Yes         NO  \n",
       "3                      No      Ch         Yes         NO  \n",
       "4                      No      Ch         Yes         NO  \n",
       "\n",
       "[5 rows x 50 columns]"
      ]
     },
     "execution_count": 2,
     "metadata": {},
     "output_type": "execute_result"
    }
   ],
   "source": [
    "data.head()"
   ]
  },
  {
   "cell_type": "code",
   "execution_count": 3,
   "id": "4728cb11",
   "metadata": {},
   "outputs": [
    {
     "data": {
      "text/plain": [
       "(101766, 50)"
      ]
     },
     "execution_count": 3,
     "metadata": {},
     "output_type": "execute_result"
    }
   ],
   "source": [
    "data.shape"
   ]
  },
  {
   "cell_type": "code",
   "execution_count": 4,
   "id": "d81640f0",
   "metadata": {},
   "outputs": [
    {
     "name": "stdout",
     "output_type": "stream",
     "text": [
      "<class 'pandas.core.frame.DataFrame'>\n",
      "RangeIndex: 101766 entries, 0 to 101765\n",
      "Data columns (total 50 columns):\n",
      " #   Column                    Non-Null Count   Dtype \n",
      "---  ------                    --------------   ----- \n",
      " 0   encounter_id              101766 non-null  int64 \n",
      " 1   patient_nbr               101766 non-null  int64 \n",
      " 2   race                      101766 non-null  object\n",
      " 3   gender                    101766 non-null  object\n",
      " 4   age                       101766 non-null  object\n",
      " 5   weight                    101766 non-null  object\n",
      " 6   admission_type_id         101766 non-null  int64 \n",
      " 7   discharge_disposition_id  101766 non-null  int64 \n",
      " 8   admission_source_id       101766 non-null  int64 \n",
      " 9   time_in_hospital          101766 non-null  int64 \n",
      " 10  payer_code                101766 non-null  object\n",
      " 11  medical_specialty         101766 non-null  object\n",
      " 12  num_lab_procedures        101766 non-null  int64 \n",
      " 13  num_procedures            101766 non-null  int64 \n",
      " 14  num_medications           101766 non-null  int64 \n",
      " 15  number_outpatient         101766 non-null  int64 \n",
      " 16  number_emergency          101766 non-null  int64 \n",
      " 17  number_inpatient          101766 non-null  int64 \n",
      " 18  diag_1                    101766 non-null  object\n",
      " 19  diag_2                    101766 non-null  object\n",
      " 20  diag_3                    101766 non-null  object\n",
      " 21  number_diagnoses          101766 non-null  int64 \n",
      " 22  max_glu_serum             101766 non-null  object\n",
      " 23  A1Cresult                 101766 non-null  object\n",
      " 24  metformin                 101766 non-null  object\n",
      " 25  repaglinide               101766 non-null  object\n",
      " 26  nateglinide               101766 non-null  object\n",
      " 27  chlorpropamide            101766 non-null  object\n",
      " 28  glimepiride               101766 non-null  object\n",
      " 29  acetohexamide             101766 non-null  object\n",
      " 30  glipizide                 101766 non-null  object\n",
      " 31  glyburide                 101766 non-null  object\n",
      " 32  tolbutamide               101766 non-null  object\n",
      " 33  pioglitazone              101766 non-null  object\n",
      " 34  rosiglitazone             101766 non-null  object\n",
      " 35  acarbose                  101766 non-null  object\n",
      " 36  miglitol                  101766 non-null  object\n",
      " 37  troglitazone              101766 non-null  object\n",
      " 38  tolazamide                101766 non-null  object\n",
      " 39  examide                   101766 non-null  object\n",
      " 40  citoglipton               101766 non-null  object\n",
      " 41  insulin                   101766 non-null  object\n",
      " 42  glyburide-metformin       101766 non-null  object\n",
      " 43  glipizide-metformin       101766 non-null  object\n",
      " 44  glimepiride-pioglitazone  101766 non-null  object\n",
      " 45  metformin-rosiglitazone   101766 non-null  object\n",
      " 46  metformin-pioglitazone    101766 non-null  object\n",
      " 47  change                    101766 non-null  object\n",
      " 48  diabetesMed               101766 non-null  object\n",
      " 49  readmitted                101766 non-null  object\n",
      "dtypes: int64(13), object(37)\n",
      "memory usage: 38.8+ MB\n"
     ]
    }
   ],
   "source": [
    "data.info()"
   ]
  },
  {
   "cell_type": "markdown",
   "id": "cc63bb09",
   "metadata": {},
   "source": [
    "# preprocessing dataset"
   ]
  },
  {
   "cell_type": "code",
   "execution_count": 5,
   "id": "c4171150",
   "metadata": {},
   "outputs": [
    {
     "data": {
      "text/plain": [
       "weight               96.858479\n",
       "medical_specialty    49.082208\n",
       "payer_code           39.557416\n",
       "race                  2.233555\n",
       "diag_3                1.398306\n",
       "diag_2                0.351787\n",
       "diag_1                0.020636\n",
       "encounter_id          0.000000\n",
       "tolazamide            0.000000\n",
       "glyburide             0.000000\n",
       "dtype: float64"
      ]
     },
     "execution_count": 5,
     "metadata": {},
     "output_type": "execute_result"
    }
   ],
   "source": [
    "data.replace(\"?\",np.nan,inplace = True)\n",
    "(data.isna().sum()/len(data)*100).sort_values(ascending=False).head(10)"
   ]
  },
  {
   "cell_type": "code",
   "execution_count": 6,
   "id": "f55278bf",
   "metadata": {},
   "outputs": [
    {
     "data": {
      "text/plain": [
       "race             2.233555\n",
       "diag_3           1.398306\n",
       "diag_2           0.351787\n",
       "diag_1           0.020636\n",
       "encounter_id     0.000000\n",
       "tolazamide       0.000000\n",
       "glyburide        0.000000\n",
       "tolbutamide      0.000000\n",
       "pioglitazone     0.000000\n",
       "rosiglitazone    0.000000\n",
       "dtype: float64"
      ]
     },
     "execution_count": 6,
     "metadata": {},
     "output_type": "execute_result"
    }
   ],
   "source": [
    "data = data.drop('weight',1)\n",
    "data = data.drop('payer_code', 1)\n",
    "data = data.drop('medical_specialty',1)\n",
    "(data.isna().sum()/len(data)*100).sort_values(ascending=False).head(10)"
   ]
  },
  {
   "cell_type": "code",
   "execution_count": 7,
   "id": "8ae80c7f",
   "metadata": {},
   "outputs": [
    {
     "name": "stdout",
     "output_type": "stream",
     "text": [
      "Caucasian          76099\n",
      "AfricanAmerican    19210\n",
      "Hispanic            2037\n",
      "Other               1506\n",
      "Asian                641\n",
      "Name: race, dtype: int64\n"
     ]
    }
   ],
   "source": [
    "print(data['race'].value_counts())"
   ]
  },
  {
   "cell_type": "code",
   "execution_count": 8,
   "id": "b869b428",
   "metadata": {},
   "outputs": [],
   "source": [
    "data['race'] = data['race'].fillna('Caucasian')"
   ]
  },
  {
   "cell_type": "code",
   "execution_count": 9,
   "id": "272061eb",
   "metadata": {},
   "outputs": [],
   "source": [
    "data['diag_1'] = data['diag_1'].fillna('Unknown')\n",
    "data['diag_2'] = data['diag_2'].fillna('Unknown')\n",
    "data['diag_3'] = data['diag_3'].fillna('Unknown')"
   ]
  },
  {
   "cell_type": "code",
   "execution_count": 10,
   "id": "0f5fd74d",
   "metadata": {},
   "outputs": [
    {
     "data": {
      "text/plain": [
       "encounter_id     0\n",
       "tolazamide       0\n",
       "acetohexamide    0\n",
       "glipizide        0\n",
       "glyburide        0\n",
       "dtype: int64"
      ]
     },
     "execution_count": 10,
     "metadata": {},
     "output_type": "execute_result"
    }
   ],
   "source": [
    "data.isna().sum().sort_values(ascending = False).head()"
   ]
  },
  {
   "cell_type": "code",
   "execution_count": 11,
   "id": "61a788a8",
   "metadata": {},
   "outputs": [
    {
     "data": {
      "text/html": [
       "<div>\n",
       "<style scoped>\n",
       "    .dataframe tbody tr th:only-of-type {\n",
       "        vertical-align: middle;\n",
       "    }\n",
       "\n",
       "    .dataframe tbody tr th {\n",
       "        vertical-align: top;\n",
       "    }\n",
       "\n",
       "    .dataframe thead th {\n",
       "        text-align: right;\n",
       "    }\n",
       "</style>\n",
       "<table border=\"1\" class=\"dataframe\">\n",
       "  <thead>\n",
       "    <tr style=\"text-align: right;\">\n",
       "      <th></th>\n",
       "      <th>encounter_id</th>\n",
       "      <th>patient_nbr</th>\n",
       "      <th>admission_type_id</th>\n",
       "      <th>discharge_disposition_id</th>\n",
       "      <th>admission_source_id</th>\n",
       "      <th>time_in_hospital</th>\n",
       "      <th>num_lab_procedures</th>\n",
       "      <th>num_procedures</th>\n",
       "      <th>num_medications</th>\n",
       "      <th>number_outpatient</th>\n",
       "      <th>number_emergency</th>\n",
       "      <th>number_inpatient</th>\n",
       "      <th>number_diagnoses</th>\n",
       "    </tr>\n",
       "  </thead>\n",
       "  <tbody>\n",
       "    <tr>\n",
       "      <th>count</th>\n",
       "      <td>1.017660e+05</td>\n",
       "      <td>1.017660e+05</td>\n",
       "      <td>101766.000000</td>\n",
       "      <td>101766.000000</td>\n",
       "      <td>101766.000000</td>\n",
       "      <td>101766.000000</td>\n",
       "      <td>101766.000000</td>\n",
       "      <td>101766.000000</td>\n",
       "      <td>101766.000000</td>\n",
       "      <td>101766.000000</td>\n",
       "      <td>101766.000000</td>\n",
       "      <td>101766.000000</td>\n",
       "      <td>101766.000000</td>\n",
       "    </tr>\n",
       "    <tr>\n",
       "      <th>mean</th>\n",
       "      <td>1.652016e+08</td>\n",
       "      <td>5.433040e+07</td>\n",
       "      <td>2.024006</td>\n",
       "      <td>3.715642</td>\n",
       "      <td>5.754437</td>\n",
       "      <td>4.395987</td>\n",
       "      <td>43.095641</td>\n",
       "      <td>1.339730</td>\n",
       "      <td>16.021844</td>\n",
       "      <td>0.369357</td>\n",
       "      <td>0.197836</td>\n",
       "      <td>0.635566</td>\n",
       "      <td>7.422607</td>\n",
       "    </tr>\n",
       "    <tr>\n",
       "      <th>std</th>\n",
       "      <td>1.026403e+08</td>\n",
       "      <td>3.869636e+07</td>\n",
       "      <td>1.445403</td>\n",
       "      <td>5.280166</td>\n",
       "      <td>4.064081</td>\n",
       "      <td>2.985108</td>\n",
       "      <td>19.674362</td>\n",
       "      <td>1.705807</td>\n",
       "      <td>8.127566</td>\n",
       "      <td>1.267265</td>\n",
       "      <td>0.930472</td>\n",
       "      <td>1.262863</td>\n",
       "      <td>1.933600</td>\n",
       "    </tr>\n",
       "    <tr>\n",
       "      <th>min</th>\n",
       "      <td>1.252200e+04</td>\n",
       "      <td>1.350000e+02</td>\n",
       "      <td>1.000000</td>\n",
       "      <td>1.000000</td>\n",
       "      <td>1.000000</td>\n",
       "      <td>1.000000</td>\n",
       "      <td>1.000000</td>\n",
       "      <td>0.000000</td>\n",
       "      <td>1.000000</td>\n",
       "      <td>0.000000</td>\n",
       "      <td>0.000000</td>\n",
       "      <td>0.000000</td>\n",
       "      <td>1.000000</td>\n",
       "    </tr>\n",
       "    <tr>\n",
       "      <th>25%</th>\n",
       "      <td>8.496119e+07</td>\n",
       "      <td>2.341322e+07</td>\n",
       "      <td>1.000000</td>\n",
       "      <td>1.000000</td>\n",
       "      <td>1.000000</td>\n",
       "      <td>2.000000</td>\n",
       "      <td>31.000000</td>\n",
       "      <td>0.000000</td>\n",
       "      <td>10.000000</td>\n",
       "      <td>0.000000</td>\n",
       "      <td>0.000000</td>\n",
       "      <td>0.000000</td>\n",
       "      <td>6.000000</td>\n",
       "    </tr>\n",
       "    <tr>\n",
       "      <th>50%</th>\n",
       "      <td>1.523890e+08</td>\n",
       "      <td>4.550514e+07</td>\n",
       "      <td>1.000000</td>\n",
       "      <td>1.000000</td>\n",
       "      <td>7.000000</td>\n",
       "      <td>4.000000</td>\n",
       "      <td>44.000000</td>\n",
       "      <td>1.000000</td>\n",
       "      <td>15.000000</td>\n",
       "      <td>0.000000</td>\n",
       "      <td>0.000000</td>\n",
       "      <td>0.000000</td>\n",
       "      <td>8.000000</td>\n",
       "    </tr>\n",
       "    <tr>\n",
       "      <th>75%</th>\n",
       "      <td>2.302709e+08</td>\n",
       "      <td>8.754595e+07</td>\n",
       "      <td>3.000000</td>\n",
       "      <td>4.000000</td>\n",
       "      <td>7.000000</td>\n",
       "      <td>6.000000</td>\n",
       "      <td>57.000000</td>\n",
       "      <td>2.000000</td>\n",
       "      <td>20.000000</td>\n",
       "      <td>0.000000</td>\n",
       "      <td>0.000000</td>\n",
       "      <td>1.000000</td>\n",
       "      <td>9.000000</td>\n",
       "    </tr>\n",
       "    <tr>\n",
       "      <th>max</th>\n",
       "      <td>4.438672e+08</td>\n",
       "      <td>1.895026e+08</td>\n",
       "      <td>8.000000</td>\n",
       "      <td>28.000000</td>\n",
       "      <td>25.000000</td>\n",
       "      <td>14.000000</td>\n",
       "      <td>132.000000</td>\n",
       "      <td>6.000000</td>\n",
       "      <td>81.000000</td>\n",
       "      <td>42.000000</td>\n",
       "      <td>76.000000</td>\n",
       "      <td>21.000000</td>\n",
       "      <td>16.000000</td>\n",
       "    </tr>\n",
       "  </tbody>\n",
       "</table>\n",
       "</div>"
      ],
      "text/plain": [
       "       encounter_id   patient_nbr  admission_type_id  \\\n",
       "count  1.017660e+05  1.017660e+05      101766.000000   \n",
       "mean   1.652016e+08  5.433040e+07           2.024006   \n",
       "std    1.026403e+08  3.869636e+07           1.445403   \n",
       "min    1.252200e+04  1.350000e+02           1.000000   \n",
       "25%    8.496119e+07  2.341322e+07           1.000000   \n",
       "50%    1.523890e+08  4.550514e+07           1.000000   \n",
       "75%    2.302709e+08  8.754595e+07           3.000000   \n",
       "max    4.438672e+08  1.895026e+08           8.000000   \n",
       "\n",
       "       discharge_disposition_id  admission_source_id  time_in_hospital  \\\n",
       "count             101766.000000        101766.000000     101766.000000   \n",
       "mean                   3.715642             5.754437          4.395987   \n",
       "std                    5.280166             4.064081          2.985108   \n",
       "min                    1.000000             1.000000          1.000000   \n",
       "25%                    1.000000             1.000000          2.000000   \n",
       "50%                    1.000000             7.000000          4.000000   \n",
       "75%                    4.000000             7.000000          6.000000   \n",
       "max                   28.000000            25.000000         14.000000   \n",
       "\n",
       "       num_lab_procedures  num_procedures  num_medications  number_outpatient  \\\n",
       "count       101766.000000   101766.000000    101766.000000      101766.000000   \n",
       "mean            43.095641        1.339730        16.021844           0.369357   \n",
       "std             19.674362        1.705807         8.127566           1.267265   \n",
       "min              1.000000        0.000000         1.000000           0.000000   \n",
       "25%             31.000000        0.000000        10.000000           0.000000   \n",
       "50%             44.000000        1.000000        15.000000           0.000000   \n",
       "75%             57.000000        2.000000        20.000000           0.000000   \n",
       "max            132.000000        6.000000        81.000000          42.000000   \n",
       "\n",
       "       number_emergency  number_inpatient  number_diagnoses  \n",
       "count     101766.000000     101766.000000     101766.000000  \n",
       "mean           0.197836          0.635566          7.422607  \n",
       "std            0.930472          1.262863          1.933600  \n",
       "min            0.000000          0.000000          1.000000  \n",
       "25%            0.000000          0.000000          6.000000  \n",
       "50%            0.000000          0.000000          8.000000  \n",
       "75%            0.000000          1.000000          9.000000  \n",
       "max           76.000000         21.000000         16.000000  "
      ]
     },
     "execution_count": 11,
     "metadata": {},
     "output_type": "execute_result"
    }
   ],
   "source": [
    "data.describe()"
   ]
  },
  {
   "cell_type": "code",
   "execution_count": 12,
   "id": "23f59e4b",
   "metadata": {},
   "outputs": [
    {
     "name": "stdout",
     "output_type": "stream",
     "text": [
      "Index(['race', 'gender', 'age', 'diag_1', 'diag_2', 'diag_3', 'max_glu_serum',\n",
      "       'A1Cresult', 'metformin', 'repaglinide', 'nateglinide',\n",
      "       'chlorpropamide', 'glimepiride', 'acetohexamide', 'glipizide',\n",
      "       'glyburide', 'tolbutamide', 'pioglitazone', 'rosiglitazone', 'acarbose',\n",
      "       'miglitol', 'troglitazone', 'tolazamide', 'examide', 'citoglipton',\n",
      "       'insulin', 'glyburide-metformin', 'glipizide-metformin',\n",
      "       'glimepiride-pioglitazone', 'metformin-rosiglitazone',\n",
      "       'metformin-pioglitazone', 'change', 'diabetesMed', 'readmitted'],\n",
      "      dtype='object') \n",
      " total number of categorical columns: 34\n"
     ]
    }
   ],
   "source": [
    "obj_col = data.columns[data.dtypes==object]\n",
    "print(obj_col,'\\n','total number of categorical columns:',len(obj_col))"
   ]
  },
  {
   "cell_type": "code",
   "execution_count": 13,
   "id": "a54510d0",
   "metadata": {},
   "outputs": [
    {
     "name": "stdout",
     "output_type": "stream",
     "text": [
      "Index(['encounter_id', 'patient_nbr', 'admission_type_id',\n",
      "       'discharge_disposition_id', 'admission_source_id', 'time_in_hospital',\n",
      "       'num_lab_procedures', 'num_procedures', 'num_medications',\n",
      "       'number_outpatient', 'number_emergency', 'number_inpatient',\n",
      "       'number_diagnoses'],\n",
      "      dtype='object') \n",
      " total number of numerical columns: 13\n"
     ]
    }
   ],
   "source": [
    "num_col = data.columns[data.dtypes==np.int64]\n",
    "print(num_col,'\\n','total number of numerical columns:',len(num_col))"
   ]
  },
  {
   "cell_type": "code",
   "execution_count": 14,
   "id": "43bc1061",
   "metadata": {},
   "outputs": [],
   "source": [
    "data['admission_type_id'] = data['admission_type_id'].astype('object')\n",
    "data['discharge_disposition_id'] = data['discharge_disposition_id'].astype('object')\n",
    "data['admission_source_id'] = data['admission_source_id'].astype('object')"
   ]
  },
  {
   "cell_type": "code",
   "execution_count": 15,
   "id": "16b5f3a4",
   "metadata": {},
   "outputs": [],
   "source": [
    "data = data.drop('encounter_id',1)\n",
    "data = data.drop('patient_nbr',1)"
   ]
  },
  {
   "cell_type": "code",
   "execution_count": 16,
   "id": "9523d675",
   "metadata": {},
   "outputs": [
    {
     "data": {
      "text/plain": [
       "(101766, 45)"
      ]
     },
     "execution_count": 16,
     "metadata": {},
     "output_type": "execute_result"
    }
   ],
   "source": [
    "data.shape"
   ]
  },
  {
   "cell_type": "markdown",
   "id": "fa3807cf",
   "metadata": {},
   "source": [
    "# Train test split"
   ]
  },
  {
   "cell_type": "code",
   "execution_count": 17,
   "id": "cf91210c",
   "metadata": {},
   "outputs": [],
   "source": [
    "data1 = data.copy()"
   ]
  },
  {
   "cell_type": "code",
   "execution_count": 18,
   "id": "81b96fee",
   "metadata": {},
   "outputs": [],
   "source": [
    "from sklearn.model_selection import train_test_split\n",
    "train_index, test_index = train_test_split(np.array(data1.index),\n",
    "                                           train_size=0.8,random_state=41,stratify = data['readmitted'])"
   ]
  },
  {
   "cell_type": "code",
   "execution_count": 19,
   "id": "8c2a849b",
   "metadata": {},
   "outputs": [],
   "source": [
    "train = data1.loc[train_index,:]\n",
    "test = data1.loc[test_index,:]"
   ]
  },
  {
   "cell_type": "code",
   "execution_count": 20,
   "id": "7aa45708",
   "metadata": {},
   "outputs": [],
   "source": [
    "y_train = train['readmitted']\n",
    "y_test = test['readmitted']"
   ]
  },
  {
   "cell_type": "code",
   "execution_count": 21,
   "id": "ced770da",
   "metadata": {},
   "outputs": [],
   "source": [
    "train.drop('readmitted',axis = 1,inplace = True)\n",
    "test.drop('readmitted',axis = 1,inplace = True)"
   ]
  },
  {
   "cell_type": "code",
   "execution_count": 22,
   "id": "d5db5ce1",
   "metadata": {},
   "outputs": [
    {
     "data": {
      "text/plain": [
       "((81412, 44), (20354, 44))"
      ]
     },
     "execution_count": 22,
     "metadata": {},
     "output_type": "execute_result"
    }
   ],
   "source": [
    "train.shape, test.shape"
   ]
  },
  {
   "cell_type": "code",
   "execution_count": 23,
   "id": "45ef7ecb",
   "metadata": {},
   "outputs": [],
   "source": [
    "X_train_1 = train.copy()\n",
    "y_train_1 = y_train.copy()"
   ]
  },
  {
   "cell_type": "code",
   "execution_count": 24,
   "id": "fd1a91eb",
   "metadata": {},
   "outputs": [],
   "source": [
    "X_test_1 = test.copy()\n",
    "y_test_1 = y_test.copy()"
   ]
  },
  {
   "cell_type": "markdown",
   "id": "eb55e3a5",
   "metadata": {},
   "source": [
    "# Initial data analysis"
   ]
  },
  {
   "cell_type": "code",
   "execution_count": 25,
   "id": "230eba2d",
   "metadata": {},
   "outputs": [
    {
     "data": {
      "text/plain": [
       "<AxesSubplot:xlabel='readmitted', ylabel='count'>"
      ]
     },
     "execution_count": 25,
     "metadata": {},
     "output_type": "execute_result"
    },
    {
     "data": {
      "image/png": "[encoded data removed]",
      "text/plain": [
       "<Figure size 540x273.6 with 1 Axes>"
      ]
     },
     "metadata": {},
     "output_type": "display_data"
    }
   ],
   "source": [
    "# response\n",
    "sns.countplot(y_train)"
   ]
  },
  {
   "cell_type": "code",
   "execution_count": 26,
   "id": "1d4067aa",
   "metadata": {},
   "outputs": [],
   "source": [
    "# replace \"NO\" and \"<30\" with 0, \">30\" with 1\n",
    "maps={\"NO\":1,\"<30\":0,\">30\":1}\n",
    "y_train_1 = y_train_1.map(maps)\n",
    "y_test_1 = y_test_1.map(maps)"
   ]
  },
  {
   "cell_type": "code",
   "execution_count": 27,
   "id": "117e2759",
   "metadata": {},
   "outputs": [
    {
     "data": {
      "text/plain": [
       "[Text(0.5, 1.0, 'after reclassify')]"
      ]
     },
     "execution_count": 27,
     "metadata": {},
     "output_type": "execute_result"
    },
    {
     "data": {
      "image/png": "[encoded data removed]",
      "text/plain": [
       "<Figure size 540x273.6 with 1 Axes>"
      ]
     },
     "metadata": {},
     "output_type": "display_data"
    }
   ],
   "source": [
    "sns.countplot(y_train_1).set(title = 'after reclassify')"
   ]
  },
  {
   "cell_type": "code",
   "execution_count": 28,
   "id": "420c9483",
   "metadata": {},
   "outputs": [
    {
     "data": {
      "text/plain": [
       "1    72327\n",
       "0     9085\n",
       "Name: readmitted, dtype: int64"
      ]
     },
     "execution_count": 28,
     "metadata": {},
     "output_type": "execute_result"
    }
   ],
   "source": [
    "y_train_1.value_counts()"
   ]
  },
  {
   "cell_type": "markdown",
   "id": "94344fd0",
   "metadata": {},
   "source": [
    "# Explortary data analysis"
   ]
  },
  {
   "cell_type": "code",
   "execution_count": 29,
   "id": "c7b8549f",
   "metadata": {},
   "outputs": [
    {
     "name": "stdout",
     "output_type": "stream",
     "text": [
      "Index(['race', 'gender', 'age', 'admission_type_id',\n",
      "       'discharge_disposition_id', 'admission_source_id', 'diag_1', 'diag_2',\n",
      "       'diag_3', 'max_glu_serum', 'A1Cresult', 'metformin', 'repaglinide',\n",
      "       'nateglinide', 'chlorpropamide', 'glimepiride', 'acetohexamide',\n",
      "       'glipizide', 'glyburide', 'tolbutamide', 'pioglitazone',\n",
      "       'rosiglitazone', 'acarbose', 'miglitol', 'troglitazone', 'tolazamide',\n",
      "       'examide', 'citoglipton', 'insulin', 'glyburide-metformin',\n",
      "       'glipizide-metformin', 'glimepiride-pioglitazone',\n",
      "       'metformin-rosiglitazone', 'metformin-pioglitazone', 'change',\n",
      "       'diabetesMed'],\n",
      "      dtype='object') \n",
      " total number of categorical columns: 36\n"
     ]
    }
   ],
   "source": [
    "obj_col = data.columns[data.dtypes==object]\n",
    "obj_col = obj_col[:-1]\n",
    "print(obj_col,'\\n','total number of categorical columns:',len(obj_col))"
   ]
  },
  {
   "cell_type": "code",
   "execution_count": 30,
   "id": "c29edf2f",
   "metadata": {},
   "outputs": [],
   "source": [
    "# categorical data - countplot\n",
    "\n",
    "# fig,ax = plt.subplots(12,3,figsize=(20,80),dpi=100)\n",
    "# for i in range(1,37):\n",
    "#     plt.subplot(12,3,i)\n",
    "#     sns.countplot(x = X_train_1[obj_col[i-1]])"
   ]
  },
  {
   "cell_type": "code",
   "execution_count": 31,
   "id": "240bc38a",
   "metadata": {},
   "outputs": [],
   "source": [
    "# fig,ax = plt.subplots(12,3,figsize=(20,80),dpi=100)\n",
    "# for i in range(1,37):\n",
    "#     plt.subplot(12,3,i)\n",
    "#     sns.countplot(x = X_train_1[obj_col[i-1]], hue = y_train_1)\n",
    "#     plt.title(obj_col[i-1])\n",
    "#     plt.legend()"
   ]
  },
  {
   "cell_type": "code",
   "execution_count": 32,
   "id": "92a84290",
   "metadata": {},
   "outputs": [
    {
     "name": "stdout",
     "output_type": "stream",
     "text": [
      "Index(['time_in_hospital', 'num_lab_procedures', 'num_procedures',\n",
      "       'num_medications', 'number_outpatient', 'number_emergency',\n",
      "       'number_inpatient', 'number_diagnoses'],\n",
      "      dtype='object') \n",
      " total number of numerical columns: 8\n"
     ]
    }
   ],
   "source": [
    "num_col = data.columns[data.dtypes==np.int64]\n",
    "print(num_col,'\\n','total number of numerical columns:',len(num_col))"
   ]
  },
  {
   "cell_type": "code",
   "execution_count": 33,
   "id": "18b38826",
   "metadata": {},
   "outputs": [],
   "source": [
    "# numerical data - distribution\n",
    "\n",
    "# fig,ax = plt.subplots(3,3,figsize=(20,20),dpi=100)\n",
    "# for i in range(1,9):\n",
    "#     plt.subplot(3,3,i)\n",
    "#     sns.distplot(X_train_1[num_col[i-1]])"
   ]
  },
  {
   "cell_type": "code",
   "execution_count": 34,
   "id": "76bd8ae9",
   "metadata": {},
   "outputs": [
    {
     "data": {
      "image/png": "[encoded data removed]",
      "text/plain": [
       "<Figure size 560x560 with 2 Axes>"
      ]
     },
     "metadata": {},
     "output_type": "display_data"
    }
   ],
   "source": [
    "# heat map btw numerical data\n",
    "plt.figure(figsize=(8,8),dpi = 70)\n",
    "sns.heatmap(X_train_1[num_col].corr().round(2),\n",
    "            xticklabels=num_col,\n",
    "            yticklabels=num_col,\n",
    "            cmap='vlag',center=0,annot=True)\n",
    "plt.title('Correlation matrix',fontsize=20)\n",
    "plt.xticks(fontsize=18)\n",
    "plt.yticks(fontsize=18,rotation=360)\n",
    "plt.show()"
   ]
  },
  {
   "cell_type": "code",
   "execution_count": 35,
   "id": "ccdd0837",
   "metadata": {},
   "outputs": [],
   "source": [
    "# sns.pairplot(X_train_1[num_col])\n",
    "# plt.show()"
   ]
  },
  {
   "cell_type": "code",
   "execution_count": 36,
   "id": "135a3078",
   "metadata": {
    "scrolled": true
   },
   "outputs": [],
   "source": [
    "# fig,ax = plt.subplots(3,3,figsize=(20,20),dpi=100)\n",
    "# for i in range(1,9):\n",
    "#     plt.subplot(3,3,i)\n",
    "#     sns.distplot(X_train_1[num_col[i-1]][y_train_1==0],label = 'readmitted = 0')\n",
    "#     sns.distplot(X_train_1[num_col[i-1]][y_train_1==1],label = 'readmitted = 1')\n",
    "#     plt.legend()"
   ]
  },
  {
   "cell_type": "code",
   "execution_count": 37,
   "id": "5682d725",
   "metadata": {},
   "outputs": [],
   "source": [
    "# kruskall wallies test for distribution\n",
    "from scipy import stats\n",
    "\n",
    "greater = X_train_1[y_train_1==0]\n",
    "less = X_train_1[y_train_1==1]\n",
    "\n",
    "p_values=[]\n",
    "stat = []\n",
    "reject = []\n",
    "for i in num_col:\n",
    "    kw = stats.kruskal(greater[i],less[i])\n",
    "    p_value = kw.pvalue\n",
    "    p_values.append(p_value)\n",
    "    statistic = kw.statistic\n",
    "    stat.append(statistic)\n",
    "    if p_value<0.01:\n",
    "        reject.append('Yes')\n",
    "    else:\n",
    "        reject.append('No')"
   ]
  },
  {
   "cell_type": "code",
   "execution_count": 38,
   "id": "7d93def4",
   "metadata": {},
   "outputs": [
    {
     "data": {
      "text/html": [
       "<div>\n",
       "<style scoped>\n",
       "    .dataframe tbody tr th:only-of-type {\n",
       "        vertical-align: middle;\n",
       "    }\n",
       "\n",
       "    .dataframe tbody tr th {\n",
       "        vertical-align: top;\n",
       "    }\n",
       "\n",
       "    .dataframe thead th {\n",
       "        text-align: right;\n",
       "    }\n",
       "</style>\n",
       "<table border=\"1\" class=\"dataframe\">\n",
       "  <thead>\n",
       "    <tr style=\"text-align: right;\">\n",
       "      <th></th>\n",
       "      <th>time_in_hospital</th>\n",
       "      <th>num_lab_procedures</th>\n",
       "      <th>num_procedures</th>\n",
       "      <th>num_medications</th>\n",
       "      <th>number_outpatient</th>\n",
       "      <th>number_emergency</th>\n",
       "      <th>number_inpatient</th>\n",
       "      <th>number_diagnoses</th>\n",
       "    </tr>\n",
       "  </thead>\n",
       "  <tbody>\n",
       "    <tr>\n",
       "      <th>statistic</th>\n",
       "      <td>235.674905</td>\n",
       "      <td>30.727886</td>\n",
       "      <td>3.037553</td>\n",
       "      <td>165.576659</td>\n",
       "      <td>85.838389</td>\n",
       "      <td>341.149663</td>\n",
       "      <td>1560.579027</td>\n",
       "      <td>168.827252</td>\n",
       "    </tr>\n",
       "    <tr>\n",
       "      <th>p_value</th>\n",
       "      <td>0.0</td>\n",
       "      <td>0.0</td>\n",
       "      <td>0.081358</td>\n",
       "      <td>0.0</td>\n",
       "      <td>0.0</td>\n",
       "      <td>0.0</td>\n",
       "      <td>0.0</td>\n",
       "      <td>0.0</td>\n",
       "    </tr>\n",
       "    <tr>\n",
       "      <th>reject H0?</th>\n",
       "      <td>Yes</td>\n",
       "      <td>Yes</td>\n",
       "      <td>No</td>\n",
       "      <td>Yes</td>\n",
       "      <td>Yes</td>\n",
       "      <td>Yes</td>\n",
       "      <td>Yes</td>\n",
       "      <td>Yes</td>\n",
       "    </tr>\n",
       "  </tbody>\n",
       "</table>\n",
       "</div>"
      ],
      "text/plain": [
       "           time_in_hospital num_lab_procedures num_procedures num_medications  \\\n",
       "statistic        235.674905          30.727886       3.037553      165.576659   \n",
       "p_value                 0.0                0.0       0.081358             0.0   \n",
       "reject H0?              Yes                Yes             No             Yes   \n",
       "\n",
       "           number_outpatient number_emergency number_inpatient  \\\n",
       "statistic          85.838389       341.149663      1560.579027   \n",
       "p_value                  0.0              0.0              0.0   \n",
       "reject H0?               Yes              Yes              Yes   \n",
       "\n",
       "           number_diagnoses  \n",
       "statistic        168.827252  \n",
       "p_value                 0.0  \n",
       "reject H0?              Yes  "
      ]
     },
     "execution_count": 38,
     "metadata": {},
     "output_type": "execute_result"
    }
   ],
   "source": [
    "pd.DataFrame([stat,p_values,reject],columns = num_col,index = ['statistic','p_value','reject H0?'])"
   ]
  },
  {
   "cell_type": "markdown",
   "id": "e001d433",
   "metadata": {},
   "source": [
    "# Feature engineering"
   ]
  },
  {
   "cell_type": "code",
   "execution_count": 39,
   "id": "27585aff",
   "metadata": {},
   "outputs": [
    {
     "data": {
      "text/plain": [
       "((81412, 44), (20354, 44))"
      ]
     },
     "execution_count": 39,
     "metadata": {},
     "output_type": "execute_result"
    }
   ],
   "source": [
    "X_train_1.shape,X_test_1.shape"
   ]
  },
  {
   "cell_type": "code",
   "execution_count": 40,
   "id": "5aa8f703",
   "metadata": {},
   "outputs": [],
   "source": [
    "# concat train_test before feature engineering\n",
    "train_test = pd.concat([X_train_1, X_test_1], axis=0)"
   ]
  },
  {
   "cell_type": "code",
   "execution_count": 41,
   "id": "01d6af08",
   "metadata": {},
   "outputs": [],
   "source": [
    "def diag_code(data1, cols):\n",
    "    for col in cols:\n",
    "        data1.loc[(data1[col].str.contains(\"V\")) | (data1[col].str.contains(\"E\")), col] = 1000\n",
    "        data1.loc[(data1[col]=='Unknown'), col] = 0\n",
    "        data1[col] = data1[col].astype(np.float16)\n",
    "\n",
    "    for col in cols:\n",
    "        data1[\"diag\"] = np.nan\n",
    "        data1.loc[(data1[col]>=390) & (data1[col]<=459) | (data1[col]==785), \"diag\"] = \"Circulatory\"\n",
    "        data1.loc[(data1[col]>=460) & (data1[col]<=519) | (data1[col]==786), \"diag\"] = \"Respiratory\"\n",
    "        data1.loc[(data1[col]>=520) & (data1[col]<=579) | (data1[col]==787), \"diag\"] = \"Digestive\"\n",
    "        data1.loc[(data1[col]>=250) & (data1[col]<251), \"diag\"] = \"Diabetes\"\n",
    "        data1.loc[(data1[col]>=800) & (data1[col]<=999), \"diag\"] = \"Injury\"\n",
    "        data1.loc[(data1[col]>=710) & (data1[col]<=739), \"diag\"] = \"Muscoloskeletal\"\n",
    "        data1.loc[(data1[col]>=580) & (data1[col]<=629) | (data1[col] == 788), \"diag\"] = \"Genitourinary\"\n",
    "        data1.loc[(data1[col]>=140) & (data1[col]<=239), \"diag\"] = \"Neoplasms\"\n",
    "        \n",
    "\n",
    "        data1[\"diag\"] = data1[\"diag\"].fillna(\"Other\")\n",
    "        data1[col] = data1[\"diag\"]\n",
    "        data1 = data1.drop(\"diag\", axis=1)\n",
    "\n",
    "    return data1"
   ]
  },
  {
   "cell_type": "code",
   "execution_count": 42,
   "id": "4812f8df",
   "metadata": {},
   "outputs": [],
   "source": [
    "train_test = diag_code(train_test,[\"diag_1\",\"diag_2\",\"diag_3\"])"
   ]
  },
  {
   "cell_type": "code",
   "execution_count": 43,
   "id": "e6cf568b",
   "metadata": {},
   "outputs": [
    {
     "data": {
      "text/plain": [
       "Circulatory        0.299088\n",
       "Other              0.178773\n",
       "Respiratory        0.141727\n",
       "Digestive          0.093106\n",
       "Diabetes           0.086050\n",
       "Injury             0.068530\n",
       "Genitourinary      0.050282\n",
       "Muscoloskeletal    0.048710\n",
       "Neoplasms          0.033734\n",
       "Name: diag_1, dtype: float64"
      ]
     },
     "execution_count": 43,
     "metadata": {},
     "output_type": "execute_result"
    }
   ],
   "source": [
    "train_test['diag_1'].value_counts()/train_test.shape[0]"
   ]
  },
  {
   "cell_type": "code",
   "execution_count": 44,
   "id": "e4e01248",
   "metadata": {},
   "outputs": [
    {
     "data": {
      "text/plain": [
       "Circulatory        0.313278\n",
       "Other              0.264440\n",
       "Diabetes           0.125720\n",
       "Respiratory        0.107059\n",
       "Genitourinary      0.082306\n",
       "Digestive          0.040976\n",
       "Neoplasms          0.025028\n",
       "Injury             0.023859\n",
       "Muscoloskeletal    0.017334\n",
       "Name: diag_2, dtype: float64"
      ]
     },
     "execution_count": 44,
     "metadata": {},
     "output_type": "execute_result"
    }
   ],
   "source": [
    "train_test['diag_2'].value_counts()/train_test.shape[0]"
   ]
  },
  {
   "cell_type": "code",
   "execution_count": 45,
   "id": "b7f2b333",
   "metadata": {},
   "outputs": [
    {
     "data": {
      "text/plain": [
       "Other              0.300867\n",
       "Circulatory        0.297801\n",
       "Diabetes           0.168593\n",
       "Respiratory        0.072303\n",
       "Genitourinary      0.065641\n",
       "Digestive          0.038618\n",
       "Injury             0.019122\n",
       "Muscoloskeletal    0.018818\n",
       "Neoplasms          0.018238\n",
       "Name: diag_3, dtype: float64"
      ]
     },
     "execution_count": 45,
     "metadata": {},
     "output_type": "execute_result"
    }
   ],
   "source": [
    "train_test['diag_3'].value_counts()/train_test.shape[0]"
   ]
  },
  {
   "cell_type": "code",
   "execution_count": 46,
   "id": "98e9829b",
   "metadata": {},
   "outputs": [
    {
     "data": {
      "text/plain": [
       "1    53990\n",
       "3    18869\n",
       "2    18480\n",
       "6     5291\n",
       "5     4785\n",
       "8      320\n",
       "7       21\n",
       "4       10\n",
       "Name: admission_type_id, dtype: int64"
      ]
     },
     "execution_count": 46,
     "metadata": {},
     "output_type": "execute_result"
    }
   ],
   "source": [
    "train_test.admission_type_id.value_counts()"
   ]
  },
  {
   "cell_type": "code",
   "execution_count": 47,
   "id": "fb6092e1",
   "metadata": {},
   "outputs": [],
   "source": [
    "train_test['admission_type_id'].replace(1,'Emergency',inplace = True)\n",
    "train_test['admission_type_id'].replace(2,'Urgent',inplace = True)\n",
    "train_test['admission_type_id'].replace(3,'Elective',inplace = True)\n",
    "train_test['admission_type_id'].replace(4,'Newborn',inplace = True)\n",
    "train_test['admission_type_id'].replace(5,'Not Available',inplace = True)\n",
    "train_test['admission_type_id'].replace(6,'NULL',inplace = True)\n",
    "train_test['admission_type_id'].replace(7,'Trauma Center',inplace = True)\n",
    "train_test['admission_type_id'].replace(8,'Not Mapped',inplace = True)"
   ]
  },
  {
   "cell_type": "code",
   "execution_count": 48,
   "id": "1237b978",
   "metadata": {},
   "outputs": [
    {
     "data": {
      "text/plain": [
       "Emergency        0.530531\n",
       "Elective         0.185416\n",
       "Urgent           0.181593\n",
       "NULL             0.051992\n",
       "Not Available    0.047020\n",
       "Not Mapped       0.003144\n",
       "Trauma Center    0.000206\n",
       "Newborn          0.000098\n",
       "Name: admission_type_id, dtype: float64"
      ]
     },
     "execution_count": 48,
     "metadata": {},
     "output_type": "execute_result"
    }
   ],
   "source": [
    "train_test.admission_type_id.value_counts()/train_test.shape[0]"
   ]
  },
  {
   "cell_type": "code",
   "execution_count": 49,
   "id": "e41ae889",
   "metadata": {},
   "outputs": [],
   "source": [
    "# reference: https://www.hcup-us.ahrq.gov/db/vars/siddistnote.jsp?var=asource\n",
    "train_test['admission_source_id'].replace(1, 'Referral', inplace=True)\n",
    "train_test['admission_source_id'].replace(2, 'Referral', inplace=True)\n",
    "train_test['admission_source_id'].replace(3, 'Referral', inplace=True)\n",
    "train_test['admission_source_id'].replace(4, 'Transfer', inplace=True)\n",
    "train_test['admission_source_id'].replace(5, 'Transfer', inplace=True)\n",
    "train_test['admission_source_id'].replace(6, 'Transfer', inplace=True)\n",
    "train_test['admission_source_id'].replace(7, 'Emergency room', inplace=True)\n",
    "train_test['admission_source_id'].replace(8, 'Court/Law enforcement', inplace=True)\n",
    "train_test['admission_source_id'].replace(9, 'Unknown', inplace=True)\n",
    "train_test['admission_source_id'].replace(10, 'Transfer', inplace=True)\n",
    "train_test['admission_source_id'].replace(11, 'delivery', inplace=True)\n",
    "train_test['admission_source_id'].replace(13, 'delivery', inplace=True)\n",
    "train_test['admission_source_id'].replace(14, 'delivery', inplace=True)\n",
    "train_test['admission_source_id'].replace(17, 'Unknown', inplace=True)\n",
    "train_test['admission_source_id'].replace(20, 'Unknown', inplace=True)\n",
    "train_test['admission_source_id'].replace(22, 'Transfer', inplace=True)\n",
    "train_test['admission_source_id'].replace(25, 'Transfer', inplace=True)"
   ]
  },
  {
   "cell_type": "code",
   "execution_count": 50,
   "id": "797de591",
   "metadata": {},
   "outputs": [
    {
     "data": {
      "text/plain": [
       "Emergency room           57494\n",
       "Referral                 30856\n",
       "Unknown                   7067\n",
       "Transfer                  6328\n",
       "Court/Law enforcement       16\n",
       "delivery                     5\n",
       "Name: admission_source_id, dtype: int64"
      ]
     },
     "execution_count": 50,
     "metadata": {},
     "output_type": "execute_result"
    }
   ],
   "source": [
    "train_test['admission_source_id'].value_counts()"
   ]
  },
  {
   "cell_type": "code",
   "execution_count": 51,
   "id": "a2eac03d",
   "metadata": {},
   "outputs": [
    {
     "data": {
      "text/plain": [
       "(array([0, 1, 2, 3, 4, 5]),\n",
       " [Text(0, 0, 'Transfer'),\n",
       "  Text(1, 0, 'Referral'),\n",
       "  Text(2, 0, 'Emergency room'),\n",
       "  Text(3, 0, 'Unknown'),\n",
       "  Text(4, 0, 'Court/Law enforcement'),\n",
       "  Text(5, 0, 'delivery')])"
      ]
     },
     "execution_count": 51,
     "metadata": {},
     "output_type": "execute_result"
    },
    {
     "data": {
      "image/png": "[encoded data removed]",
      "text/plain": [
       "<Figure size 540x273.6 with 1 Axes>"
      ]
     },
     "metadata": {},
     "output_type": "display_data"
    }
   ],
   "source": [
    "sns.countplot('admission_source_id', data=train_test).set(title = 'after reclassify')\n",
    "plt.xticks(rotation=90)"
   ]
  },
  {
   "cell_type": "code",
   "execution_count": 52,
   "id": "2de7564b",
   "metadata": {},
   "outputs": [],
   "source": [
    "# reference: https://www.hcup-us.ahrq.gov/db/vars/siddistnote.jsp?var=dispuniform\n",
    "train_test['discharge_disposition_id'].replace(1, 'Routine', inplace = True)\n",
    "train_test['discharge_disposition_id'].replace(2, 'Transfer_stHospital', inplace = True)\n",
    "train_test['discharge_disposition_id'].replace(3, 'Transfer_Other', inplace = True)\n",
    "train_test['discharge_disposition_id'].replace(4, 'Transfer_Other', inplace = True)\n",
    "train_test['discharge_disposition_id'].replace(5, 'Transfer_Other', inplace = True)\n",
    "train_test['discharge_disposition_id'].replace(6, 'HHC', inplace = True)\n",
    "train_test['discharge_disposition_id'].replace(7, 'AMA', inplace = True)\n",
    "train_test['discharge_disposition_id'].replace(8, 'HHC', inplace = True)\n",
    "train_test['discharge_disposition_id'].replace(9, 'Transfer_stHospital', inplace = True)\n",
    "train_test['discharge_disposition_id'].replace(10, 'Transfer_Other', inplace = True)\n",
    "train_test['discharge_disposition_id'].replace(11, 'Expired', inplace = True)\n",
    "train_test['discharge_disposition_id'].replace(12, 'Transfer_Other', inplace = True)\n",
    "train_test['discharge_disposition_id'].replace(13, 'Transfer_Other', inplace = True)\n",
    "train_test['discharge_disposition_id'].replace(14, 'Transfer_Other', inplace = True)\n",
    "train_test['discharge_disposition_id'].replace(15, 'Transfer_Other', inplace = True)\n",
    "train_test['discharge_disposition_id'].replace(16, 'Transfer_Other', inplace = True)\n",
    "train_test['discharge_disposition_id'].replace(17, 'Transfer_Other', inplace = True)\n",
    "train_test['discharge_disposition_id'].replace(18, 'NULL', inplace = True)\n",
    "train_test['discharge_disposition_id'].replace(19, 'Expired', inplace = True)\n",
    "train_test['discharge_disposition_id'].replace(20, 'Expired', inplace = True)\n",
    "train_test['discharge_disposition_id'].replace(22, 'Transfer_Other', inplace = True)\n",
    "train_test['discharge_disposition_id'].replace(23, 'Transfer_Other', inplace = True)\n",
    "train_test['discharge_disposition_id'].replace(24, 'Transfer_Other', inplace = True)\n",
    "train_test['discharge_disposition_id'].replace(25, 'Not mapped', inplace = True)\n",
    "train_test['discharge_disposition_id'].replace(27, 'Transfer_Other', inplace = True)\n",
    "train_test['discharge_disposition_id'].replace(28, 'Transfer_Other', inplace = True)"
   ]
  },
  {
   "cell_type": "code",
   "execution_count": 53,
   "id": "ac963f82",
   "metadata": {},
   "outputs": [
    {
     "data": {
      "text/plain": [
       "Routine                60234\n",
       "Transfer_Other         19418\n",
       "HHC                    13010\n",
       "NULL                    3691\n",
       "Transfer_stHospital     2149\n",
       "Expired                 1652\n",
       "Not mapped               989\n",
       "AMA                      623\n",
       "Name: discharge_disposition_id, dtype: int64"
      ]
     },
     "execution_count": 53,
     "metadata": {},
     "output_type": "execute_result"
    }
   ],
   "source": [
    "train_test['discharge_disposition_id'].value_counts()"
   ]
  },
  {
   "cell_type": "code",
   "execution_count": 54,
   "id": "b693c558",
   "metadata": {},
   "outputs": [
    {
     "data": {
      "text/plain": [
       "(array([0, 1, 2, 3, 4, 5, 6, 7]),\n",
       " [Text(0, 0, 'Routine'),\n",
       "  Text(1, 0, 'Transfer_Other'),\n",
       "  Text(2, 0, 'Transfer_stHospital'),\n",
       "  Text(3, 0, 'HHC'),\n",
       "  Text(4, 0, 'NULL'),\n",
       "  Text(5, 0, 'Not mapped'),\n",
       "  Text(6, 0, 'Expired'),\n",
       "  Text(7, 0, 'AMA')])"
      ]
     },
     "execution_count": 54,
     "metadata": {},
     "output_type": "execute_result"
    },
    {
     "data": {
      "image/png": "[encoded data removed]",
      "text/plain": [
       "<Figure size 540x273.6 with 1 Axes>"
      ]
     },
     "metadata": {},
     "output_type": "display_data"
    }
   ],
   "source": [
    "sns.countplot('discharge_disposition_id', data=train_test).set(title = 'after reclassify')\n",
    "plt.xticks(rotation=90)"
   ]
  },
  {
   "cell_type": "code",
   "execution_count": 55,
   "id": "c1f4462d",
   "metadata": {},
   "outputs": [],
   "source": [
    "medications = ['metformin', 'repaglinide', 'nateglinide', 'chlorpropamide', \n",
    "               'glimepiride', 'acetohexamide', 'glipizide', 'glyburide', \n",
    "               'tolbutamide', 'pioglitazone', 'rosiglitazone', 'acarbose', \n",
    "               'miglitol', 'troglitazone', 'tolazamide', 'examide', \n",
    "               'insulin', 'glyburide-metformin', 'glipizide-metformin', 'glimepiride-pioglitazone', \n",
    "               'metformin-rosiglitazone', 'metformin-pioglitazone', 'citoglipton']"
   ]
  },
  {
   "cell_type": "code",
   "execution_count": 56,
   "id": "7dcb58ef",
   "metadata": {},
   "outputs": [],
   "source": [
    "def use_or_not(data, col):\n",
    "    maps = {'No': 0, 'Up': 1, 'Steady': 1, 'Down': 1}\n",
    "    data['use_or_not'+col] = data[col].map(maps)"
   ]
  },
  {
   "cell_type": "code",
   "execution_count": 57,
   "id": "aa04d5ba",
   "metadata": {},
   "outputs": [],
   "source": [
    "for i in medications:\n",
    "    use_or_not(train_test,i)"
   ]
  },
  {
   "cell_type": "code",
   "execution_count": 58,
   "id": "855d9f22",
   "metadata": {},
   "outputs": [],
   "source": [
    "medications_use_ornot=['use_or_not' + i for i in medications]"
   ]
  },
  {
   "cell_type": "code",
   "execution_count": 59,
   "id": "9c71b9c8",
   "metadata": {},
   "outputs": [],
   "source": [
    "## new variable: the number of doses the patient take \n",
    "train_test ['number_24medications'] = np.zeros(train_test.shape[0])\n",
    "for i in medications_use_ornot:\n",
    "    train_test ['number_24medications'] = train_test['number_24medications'] + train_test[i]"
   ]
  },
  {
   "cell_type": "code",
   "execution_count": 60,
   "id": "5d743edf",
   "metadata": {},
   "outputs": [],
   "source": [
    "for i in medications_use_ornot:\n",
    "    del train_test[i]"
   ]
  },
  {
   "cell_type": "code",
   "execution_count": 61,
   "id": "e940e907",
   "metadata": {},
   "outputs": [],
   "source": [
    "def change_or_not(data,col):\n",
    "    maps = {'No': 0, 'Up': 1, 'Steady': 0, 'Down': 1}\n",
    "    data['change_or_not'+col] = data[col].map(maps)"
   ]
  },
  {
   "cell_type": "code",
   "execution_count": 62,
   "id": "5a72eb9b",
   "metadata": {},
   "outputs": [],
   "source": [
    "for i in medications:\n",
    "    change_or_not(train_test,i)"
   ]
  },
  {
   "cell_type": "code",
   "execution_count": 63,
   "id": "4fb16521",
   "metadata": {},
   "outputs": [],
   "source": [
    "medications_change_or_not=['change_or_not' + i for i in medications]"
   ]
  },
  {
   "cell_type": "code",
   "execution_count": 64,
   "id": "0792c0bf",
   "metadata": {},
   "outputs": [],
   "source": [
    "## new variable: the number of changes of doses the patient take \n",
    "train_test ['number_change_24medications'] = np.zeros(train_test.shape[0])\n",
    "for i in medications_change_or_not:\n",
    "    train_test ['number_change_24medications'] = train_test['number_change_24medications'] + train_test[i]"
   ]
  },
  {
   "cell_type": "code",
   "execution_count": 65,
   "id": "875201a6",
   "metadata": {},
   "outputs": [],
   "source": [
    "for i in medications_change_or_not:\n",
    "    del train_test[i]"
   ]
  },
  {
   "cell_type": "code",
   "execution_count": 66,
   "id": "54e05f58",
   "metadata": {},
   "outputs": [],
   "source": [
    "for i in medications:\n",
    "    del train_test[i]"
   ]
  },
  {
   "cell_type": "code",
   "execution_count": 67,
   "id": "d1da3c2a",
   "metadata": {
    "scrolled": true
   },
   "outputs": [
    {
     "name": "stdout",
     "output_type": "stream",
     "text": [
      "Index(['time_in_hospital', 'num_lab_procedures', 'num_procedures',\n",
      "       'num_medications', 'number_outpatient', 'number_emergency',\n",
      "       'number_inpatient', 'number_diagnoses', 'number_24medications',\n",
      "       'number_change_24medications'],\n",
      "      dtype='object') \n",
      " total number of numerical columns: 10\n"
     ]
    }
   ],
   "source": [
    "num_col = train_test.columns[train_test.dtypes!=object]\n",
    "print(num_col,'\\n','total number of numerical columns:',len(num_col))"
   ]
  },
  {
   "cell_type": "code",
   "execution_count": 68,
   "id": "3ce6f26e",
   "metadata": {
    "scrolled": true
   },
   "outputs": [
    {
     "name": "stdout",
     "output_type": "stream",
     "text": [
      "Index(['race', 'gender', 'age', 'admission_type_id',\n",
      "       'discharge_disposition_id', 'admission_source_id', 'diag_1', 'diag_2',\n",
      "       'diag_3', 'max_glu_serum', 'A1Cresult', 'change', 'diabetesMed'],\n",
      "      dtype='object') \n",
      " total number of categorical columns: 13\n"
     ]
    }
   ],
   "source": [
    "obj_col = train_test.columns[train_test.dtypes==object]\n",
    "print(obj_col,'\\n','total number of categorical columns:',len(obj_col))"
   ]
  },
  {
   "cell_type": "code",
   "execution_count": 69,
   "id": "7c87d64a",
   "metadata": {},
   "outputs": [
    {
     "data": {
      "text/plain": [
       "((81412, 23), (81412, 44), (20354, 23), (20354, 44))"
      ]
     },
     "execution_count": 69,
     "metadata": {},
     "output_type": "execute_result"
    }
   ],
   "source": [
    "X_train_2 = train_test.iloc[:X_train_1.shape[0],:]\n",
    "X_test_2 = train_test.iloc[X_train_1.shape[0]:,:]\n",
    "X_train_2.shape, X_train_1.shape, X_test_2.shape, X_test_1.shape"
   ]
  },
  {
   "cell_type": "code",
   "execution_count": 70,
   "id": "a43d4026",
   "metadata": {},
   "outputs": [
    {
     "name": "stdout",
     "output_type": "stream",
     "text": [
      "Caucasian          62785\n",
      "AfricanAmerican    15306\n",
      "Hispanic            1621\n",
      "Other               1187\n",
      "Asian                513\n",
      "Name: race, dtype: int64\n",
      "------------------------- \n",
      "\n",
      "Female             43848\n",
      "Male               37561\n",
      "Unknown/Invalid        3\n",
      "Name: gender, dtype: int64\n",
      "------------------------- \n",
      "\n",
      "[70-80)     20888\n",
      "[60-70)     18036\n",
      "[50-60)     13844\n",
      "[80-90)     13735\n",
      "[40-50)      7670\n",
      "[30-40)      3010\n",
      "[90-100)     2212\n",
      "[20-30)      1344\n",
      "[10-20)       544\n",
      "[0-10)        129\n",
      "Name: age, dtype: int64\n",
      "------------------------- \n",
      "\n",
      "Emergency        43225\n",
      "Elective         15086\n",
      "Urgent           14824\n",
      "NULL              4174\n",
      "Not Available     3826\n",
      "Not Mapped         253\n",
      "Trauma Center       15\n",
      "Newborn              9\n",
      "Name: admission_type_id, dtype: int64\n",
      "------------------------- \n",
      "\n",
      "Routine                48164\n",
      "Transfer_Other         15598\n",
      "HHC                    10393\n",
      "NULL                    2978\n",
      "Transfer_stHospital     1682\n",
      "Expired                 1316\n",
      "Not mapped               787\n",
      "AMA                      494\n",
      "Name: discharge_disposition_id, dtype: int64\n",
      "------------------------- \n",
      "\n",
      "Emergency room           46074\n",
      "Referral                 24719\n",
      "Unknown                   5588\n",
      "Transfer                  5015\n",
      "Court/Law enforcement       13\n",
      "delivery                     3\n",
      "Name: admission_source_id, dtype: int64\n",
      "------------------------- \n",
      "\n",
      "Circulatory        24405\n",
      "Other              14481\n",
      "Respiratory        11567\n",
      "Digestive           7585\n",
      "Diabetes            6990\n",
      "Injury              5556\n",
      "Genitourinary       4063\n",
      "Muscoloskeletal     3963\n",
      "Neoplasms           2802\n",
      "Name: diag_1, dtype: int64\n",
      "------------------------- \n",
      "\n",
      "Circulatory        25509\n",
      "Other              21569\n",
      "Diabetes           10267\n",
      "Respiratory         8711\n",
      "Genitourinary       6644\n",
      "Digestive           3313\n",
      "Neoplasms           2047\n",
      "Injury              1905\n",
      "Muscoloskeletal     1447\n",
      "Name: diag_2, dtype: int64\n",
      "------------------------- \n",
      "\n",
      "Other              24461\n",
      "Circulatory        24239\n",
      "Diabetes           13716\n",
      "Respiratory         5915\n",
      "Genitourinary       5324\n",
      "Digestive           3161\n",
      "Injury              1560\n",
      "Muscoloskeletal     1538\n",
      "Neoplasms           1498\n",
      "Name: diag_3, dtype: int64\n",
      "------------------------- \n",
      "\n",
      "None    77156\n",
      "Norm     2065\n",
      ">200     1164\n",
      ">300     1027\n",
      "Name: max_glu_serum, dtype: int64\n",
      "------------------------- \n",
      "\n",
      "None    67833\n",
      ">8       6573\n",
      "Norm     3975\n",
      ">7       3031\n",
      "Name: A1Cresult, dtype: int64\n",
      "------------------------- \n",
      "\n",
      "No    43733\n",
      "Ch    37679\n",
      "Name: change, dtype: int64\n",
      "------------------------- \n",
      "\n",
      "Yes    62757\n",
      "No     18655\n",
      "Name: diabetesMed, dtype: int64\n",
      "------------------------- \n",
      "\n"
     ]
    }
   ],
   "source": [
    "for i in obj_col:\n",
    "    print(X_train_2[i].value_counts())\n",
    "    print('-'*25,'\\n')"
   ]
  },
  {
   "cell_type": "code",
   "execution_count": 71,
   "id": "5d9188ac",
   "metadata": {
    "scrolled": true
   },
   "outputs": [
    {
     "data": {
      "text/plain": [
       "Female             43848\n",
       "Male               37561\n",
       "Unknown/Invalid        3\n",
       "Name: gender, dtype: int64"
      ]
     },
     "execution_count": 71,
     "metadata": {},
     "output_type": "execute_result"
    }
   ],
   "source": [
    "X_train_2['gender'].value_counts()"
   ]
  },
  {
   "cell_type": "code",
   "execution_count": 72,
   "id": "d9eee295",
   "metadata": {},
   "outputs": [],
   "source": [
    "y_train_1 = y_train_1.drop(X_train_2[X_train_2['gender']=='Unknown/Invalid'].index)\n",
    "X_train_2 = X_train_2.drop(X_train_2[X_train_2['gender']=='Unknown/Invalid'].index)"
   ]
  },
  {
   "cell_type": "markdown",
   "id": "635b0266",
   "metadata": {},
   "source": [
    "#### Transformation on numerical variables"
   ]
  },
  {
   "cell_type": "code",
   "execution_count": 73,
   "id": "ee36743c",
   "metadata": {
    "scrolled": true
   },
   "outputs": [
    {
     "data": {
      "text/plain": [
       "array([1, 1, 1, ..., 1, 1, 1])"
      ]
     },
     "execution_count": 73,
     "metadata": {},
     "output_type": "execute_result"
    }
   ],
   "source": [
    "from sklearn.neighbors import LocalOutlierFactor\n",
    "clf = LocalOutlierFactor(n_neighbors = 20 , contamination = 0.1)\n",
    "clf.fit_predict(X_train_2[num_col])"
   ]
  },
  {
   "cell_type": "code",
   "execution_count": null,
   "id": "deb12043",
   "metadata": {},
   "outputs": [],
   "source": []
  },
  {
   "cell_type": "code",
   "execution_count": 74,
   "id": "169051f9",
   "metadata": {},
   "outputs": [
    {
     "data": {
      "text/plain": [
       "time_in_hospital                1.127783\n",
       "num_lab_procedures             -0.240424\n",
       "num_procedures                  1.312903\n",
       "num_medications                 1.337335\n",
       "number_outpatient               8.836167\n",
       "number_emergency               24.197236\n",
       "number_inpatient                3.657859\n",
       "number_diagnoses               -0.870623\n",
       "number_24medications            0.680149\n",
       "number_change_24medications     1.435999\n",
       "dtype: float64"
      ]
     },
     "execution_count": 74,
     "metadata": {},
     "output_type": "execute_result"
    }
   ],
   "source": [
    "X_train_2[num_col].skew()"
   ]
  },
  {
   "cell_type": "code",
   "execution_count": 75,
   "id": "f2ee98e4",
   "metadata": {},
   "outputs": [
    {
     "data": {
      "text/plain": [
       "Index(['time_in_hospital', 'num_lab_procedures', 'num_procedures',\n",
       "       'num_medications', 'number_outpatient', 'number_emergency',\n",
       "       'number_inpatient', 'number_diagnoses', 'number_24medications',\n",
       "       'number_change_24medications'],\n",
       "      dtype='object')"
      ]
     },
     "execution_count": 75,
     "metadata": {},
     "output_type": "execute_result"
    }
   ],
   "source": [
    "num_col"
   ]
  },
  {
   "cell_type": "code",
   "execution_count": 76,
   "id": "b01be0a6",
   "metadata": {},
   "outputs": [
    {
     "data": {
      "text/plain": [
       "Index(['time_in_hospital', 'num_procedures', 'num_medications',\n",
       "       'number_outpatient', 'number_emergency', 'number_inpatient',\n",
       "       'number_24medications', 'number_change_24medications'],\n",
       "      dtype='object')"
      ]
     },
     "execution_count": 76,
     "metadata": {},
     "output_type": "execute_result"
    }
   ],
   "source": [
    "right_skewed = num_col[X_train_2[num_col].skew()>0]\n",
    "right_skewed"
   ]
  },
  {
   "cell_type": "code",
   "execution_count": 77,
   "id": "56eaeab8",
   "metadata": {},
   "outputs": [],
   "source": [
    "def boxcox(column, data):\n",
    "    if data[column].min()==0:\n",
    "        data[column]=data[column]+1\n",
    "    data['bc_'+column]=stats.boxcox(data[column])[0]"
   ]
  },
  {
   "cell_type": "code",
   "execution_count": 78,
   "id": "92fec1a5",
   "metadata": {},
   "outputs": [],
   "source": [
    "for i in right_skewed:\n",
    "    boxcox(i, X_train_2)"
   ]
  },
  {
   "cell_type": "code",
   "execution_count": 79,
   "id": "bcaf0eb8",
   "metadata": {},
   "outputs": [
    {
     "data": {
      "image/png": "[encoded data removed]",
      "text/plain": [
       "<Figure size 1080x288 with 2 Axes>"
      ]
     },
     "metadata": {},
     "output_type": "display_data"
    },
    {
     "data": {
      "image/png": "[encoded data removed]",
      "text/plain": [
       "<Figure size 1080x288 with 2 Axes>"
      ]
     },
     "metadata": {},
     "output_type": "display_data"
    },
    {
     "data": {
      "image/png": "[encoded data removed]",
      "text/plain": [
       "<Figure size 1080x288 with 2 Axes>"
      ]
     },
     "metadata": {},
     "output_type": "display_data"
    },
    {
     "data": {
      "image/png": "[encoded data removed]",
      "text/plain": [
       "<Figure size 1080x288 with 2 Axes>"
      ]
     },
     "metadata": {},
     "output_type": "display_data"
    },
    {
     "data": {
      "image/png": "[encoded data removed]",
      "text/plain": [
       "<Figure size 1080x288 with 2 Axes>"
      ]
     },
     "metadata": {},
     "output_type": "display_data"
    },
    {
     "data": {
      "image/png": "[encoded data removed]",
      "text/plain": [
       "<Figure size 1080x288 with 2 Axes>"
      ]
     },
     "metadata": {},
     "output_type": "display_data"
    },
    {
     "data": {
      "image/png": "[encoded data removed]",
      "text/plain": [
       "<Figure size 1080x288 with 2 Axes>"
      ]
     },
     "metadata": {},
     "output_type": "display_data"
    },
    {
     "data": {
      "image/png": "[encoded data removed]",
      "text/plain": [
       "<Figure size 1080x288 with 2 Axes>"
      ]
     },
     "metadata": {},
     "output_type": "display_data"
    }
   ],
   "source": [
    "for i in right_skewed:\n",
    "    fig, axes = plt.subplots(1,2,figsize = (15,4))\n",
    "  \n",
    "    sns.boxplot(i, data=X_train_2, palette='Blues', showmeans=True,ax=axes[0])\n",
    "     \n",
    "    sns.boxplot('bc_'+i, data=X_train_2, palette='Blues', showmeans=True,ax=axes[1])"
   ]
  },
  {
   "cell_type": "code",
   "execution_count": 80,
   "id": "7750deca",
   "metadata": {},
   "outputs": [
    {
     "data": {
      "text/plain": [
       "13380"
      ]
     },
     "execution_count": 80,
     "metadata": {},
     "output_type": "execute_result"
    }
   ],
   "source": [
    "len(X_train_2[X_train_2['bc_number_outpatient']>0.02])"
   ]
  },
  {
   "cell_type": "code",
   "execution_count": 81,
   "id": "af50f076",
   "metadata": {},
   "outputs": [],
   "source": [
    "X_train_3 = X_train_2.drop(X_train_2[X_train_2['bc_number_outpatient']>0.02].index)"
   ]
  },
  {
   "cell_type": "code",
   "execution_count": 82,
   "id": "fce7bbca",
   "metadata": {},
   "outputs": [
    {
     "data": {
      "text/plain": [
       "(68029, 31)"
      ]
     },
     "execution_count": 82,
     "metadata": {},
     "output_type": "execute_result"
    }
   ],
   "source": [
    "X_train_3.shape"
   ]
  },
  {
   "cell_type": "code",
   "execution_count": 83,
   "id": "84dee508",
   "metadata": {},
   "outputs": [
    {
     "data": {
      "image/png": "[encoded data removed]",
      "text/plain": [
       "<Figure size 1080x288 with 2 Axes>"
      ]
     },
     "metadata": {},
     "output_type": "display_data"
    },
    {
     "data": {
      "image/png": "[encoded data removed]",
      "text/plain": [
       "<Figure size 1080x288 with 2 Axes>"
      ]
     },
     "metadata": {},
     "output_type": "display_data"
    },
    {
     "data": {
      "image/png": "[encoded data removed]",
      "text/plain": [
       "<Figure size 1080x288 with 2 Axes>"
      ]
     },
     "metadata": {},
     "output_type": "display_data"
    },
    {
     "data": {
      "image/png": "[encoded data removed]",
      "text/plain": [
       "<Figure size 1080x288 with 2 Axes>"
      ]
     },
     "metadata": {},
     "output_type": "display_data"
    },
    {
     "data": {
      "image/png": "[encoded data removed]",
      "text/plain": [
       "<Figure size 1080x288 with 2 Axes>"
      ]
     },
     "metadata": {},
     "output_type": "display_data"
    },
    {
     "data": {
      "image/png": "[encoded data removed]",
      "text/plain": [
       "<Figure size 1080x288 with 2 Axes>"
      ]
     },
     "metadata": {},
     "output_type": "display_data"
    },
    {
     "data": {
      "image/png": "[encoded data removed]",
      "text/plain": [
       "<Figure size 1080x288 with 2 Axes>"
      ]
     },
     "metadata": {},
     "output_type": "display_data"
    },
    {
     "data": {
      "image/png": "[encoded data removed]",
      "text/plain": [
       "<Figure size 1080x288 with 2 Axes>"
      ]
     },
     "metadata": {},
     "output_type": "display_data"
    }
   ],
   "source": [
    "for i in right_skewed:\n",
    "    fig, axes = plt.subplots(1,2,figsize = (15,4))\n",
    "  \n",
    "    sns.boxplot(i, data=X_train_3, palette='Blues', showmeans=True,ax=axes[0])\n",
    "     \n",
    "    sns.boxplot('bc_'+i, data=X_train_3, palette='Blues', showmeans=True,ax=axes[1])"
   ]
  },
  {
   "cell_type": "code",
   "execution_count": 84,
   "id": "f6d878df",
   "metadata": {
    "scrolled": true
   },
   "outputs": [
    {
     "data": {
      "text/plain": [
       "9181"
      ]
     },
     "execution_count": 84,
     "metadata": {},
     "output_type": "execute_result"
    }
   ],
   "source": [
    "len(X_train_2[X_train_2['bc_number_emergency']>0.1])"
   ]
  },
  {
   "cell_type": "code",
   "execution_count": 85,
   "id": "558f4acb",
   "metadata": {},
   "outputs": [],
   "source": [
    "X_train_3 = X_train_3.drop(X_train_3[X_train_3['bc_number_emergency']>0.1].index)"
   ]
  },
  {
   "cell_type": "code",
   "execution_count": 86,
   "id": "7607f2dc",
   "metadata": {},
   "outputs": [
    {
     "data": {
      "text/plain": [
       "0.0    61986\n",
       "Name: bc_number_outpatient, dtype: int64"
      ]
     },
     "execution_count": 86,
     "metadata": {},
     "output_type": "execute_result"
    }
   ],
   "source": [
    "X_train_3['bc_number_outpatient'].value_counts()"
   ]
  },
  {
   "cell_type": "code",
   "execution_count": 87,
   "id": "af8c2bbc",
   "metadata": {
    "scrolled": true
   },
   "outputs": [
    {
     "data": {
      "text/plain": [
       "0.0    61986\n",
       "Name: bc_number_emergency, dtype: int64"
      ]
     },
     "execution_count": 87,
     "metadata": {},
     "output_type": "execute_result"
    }
   ],
   "source": [
    "X_train_3['bc_number_emergency'].value_counts()"
   ]
  },
  {
   "cell_type": "code",
   "execution_count": 88,
   "id": "5e779565",
   "metadata": {},
   "outputs": [
    {
     "data": {
      "text/plain": [
       "array([3.48712203, 5.19085103])"
      ]
     },
     "execution_count": 88,
     "metadata": {},
     "output_type": "execute_result"
    }
   ],
   "source": [
    "np.quantile(X_train_2['bc_num_medications'],[0.25,0.75])"
   ]
  },
  {
   "cell_type": "code",
   "execution_count": 89,
   "id": "97f1f138",
   "metadata": {},
   "outputs": [],
   "source": [
    "quantile25 = np.quantile(X_train_2['bc_num_medications'],0.25)\n",
    "quantile75 = np.quantile(X_train_2['bc_num_medications'],0.75)"
   ]
  },
  {
   "cell_type": "code",
   "execution_count": 90,
   "id": "58b65e94",
   "metadata": {},
   "outputs": [
    {
     "data": {
      "text/plain": [
       "16355"
      ]
     },
     "execution_count": 90,
     "metadata": {},
     "output_type": "execute_result"
    }
   ],
   "source": [
    "len(X_train_2[X_train_2['bc_num_medications']<quantile25])"
   ]
  },
  {
   "cell_type": "code",
   "execution_count": 91,
   "id": "88093487",
   "metadata": {},
   "outputs": [
    {
     "data": {
      "text/plain": [
       "19152"
      ]
     },
     "execution_count": 91,
     "metadata": {},
     "output_type": "execute_result"
    }
   ],
   "source": [
    "len(X_train_2[X_train_2['bc_num_medications']>quantile75])"
   ]
  },
  {
   "cell_type": "code",
   "execution_count": 92,
   "id": "3ce54982",
   "metadata": {},
   "outputs": [],
   "source": [
    "y_train_1 = y_train_1.drop(X_train_2[X_train_2['bc_num_medications']<quantile25].index)\n",
    "X_train_2 = X_train_2.drop(X_train_2[X_train_2['bc_num_medications']<quantile25].index)"
   ]
  },
  {
   "cell_type": "code",
   "execution_count": 93,
   "id": "e666bef4",
   "metadata": {},
   "outputs": [],
   "source": [
    "y_train_1 = y_train_1.drop(X_train_2[X_train_2['bc_num_medications']>quantile75].index)\n",
    "X_train_2 = X_train_2.drop(X_train_2[X_train_2['bc_num_medications']>quantile75].index)"
   ]
  },
  {
   "cell_type": "code",
   "execution_count": 94,
   "id": "4d124af1",
   "metadata": {},
   "outputs": [
    {
     "data": {
      "text/plain": [
       "(45902,)"
      ]
     },
     "execution_count": 94,
     "metadata": {},
     "output_type": "execute_result"
    }
   ],
   "source": [
    "y_train_1.shape"
   ]
  },
  {
   "cell_type": "code",
   "execution_count": 95,
   "id": "b20e146a",
   "metadata": {},
   "outputs": [],
   "source": [
    "for i in right_skewed:\n",
    "    boxcox(i, X_test_2)"
   ]
  },
  {
   "cell_type": "code",
   "execution_count": 96,
   "id": "0f28c683",
   "metadata": {},
   "outputs": [],
   "source": [
    "for i in right_skewed:\n",
    "    del X_train_2[i]\n",
    "    del X_test_2[i]"
   ]
  },
  {
   "cell_type": "code",
   "execution_count": 97,
   "id": "42a97956",
   "metadata": {},
   "outputs": [],
   "source": [
    "del X_train_2['bc_number_emergency']\n",
    "del X_test_2['bc_number_emergency']\n",
    "del X_train_2['bc_number_outpatient']\n",
    "del X_test_2['bc_number_outpatient']"
   ]
  },
  {
   "cell_type": "code",
   "execution_count": 98,
   "id": "a05fec00",
   "metadata": {},
   "outputs": [],
   "source": [
    "for i in X_train_2.columns:\n",
    "    if len(X_train_2[i].unique())==1:\n",
    "        print(i)\n",
    "        del X_train_2[i]\n",
    "        del X_test_2[i]"
   ]
  },
  {
   "cell_type": "code",
   "execution_count": 99,
   "id": "d3e9925e",
   "metadata": {},
   "outputs": [],
   "source": [
    "train_test_2 = pd.concat([X_train_2,X_test_2], axis=0)"
   ]
  },
  {
   "cell_type": "code",
   "execution_count": 100,
   "id": "2bd9241b",
   "metadata": {},
   "outputs": [
    {
     "data": {
      "text/plain": [
       "array(['[40-50)', '[50-60)', '[40-50)', ..., '[60-70)', '[70-80)',\n",
       "       '[60-70)'], dtype=object)"
      ]
     },
     "execution_count": 100,
     "metadata": {},
     "output_type": "execute_result"
    }
   ],
   "source": [
    "train_test_2['age'].values"
   ]
  },
  {
   "cell_type": "code",
   "execution_count": 101,
   "id": "a7f057ff",
   "metadata": {},
   "outputs": [],
   "source": [
    "from sklearn import preprocessing\n",
    "oe = preprocessing.OrdinalEncoder()\n",
    "oe.fit(train_test_2['age'].values.reshape(-1, 1))\n",
    "train_test_2['age_ordinal']=oe.transform(train_test_2['age'].values.reshape(-1, 1)).copy()"
   ]
  },
  {
   "cell_type": "code",
   "execution_count": 102,
   "id": "31a0abe3",
   "metadata": {
    "scrolled": true
   },
   "outputs": [],
   "source": [
    "del train_test_2['age']"
   ]
  },
  {
   "cell_type": "code",
   "execution_count": 103,
   "id": "a277405f",
   "metadata": {
    "scrolled": true
   },
   "outputs": [
    {
     "data": {
      "text/plain": [
       "Index(['race', 'gender', 'admission_type_id', 'discharge_disposition_id',\n",
       "       'admission_source_id', 'num_lab_procedures', 'diag_1', 'diag_2',\n",
       "       'diag_3', 'number_diagnoses', 'max_glu_serum', 'A1Cresult', 'change',\n",
       "       'diabetesMed', 'bc_time_in_hospital', 'bc_num_procedures',\n",
       "       'bc_num_medications', 'bc_number_inpatient', 'bc_number_24medications',\n",
       "       'bc_number_change_24medications', 'age_ordinal'],\n",
       "      dtype='object')"
      ]
     },
     "execution_count": 103,
     "metadata": {},
     "output_type": "execute_result"
    }
   ],
   "source": [
    "train_test_2.columns"
   ]
  },
  {
   "cell_type": "code",
   "execution_count": 104,
   "id": "dd9ba920",
   "metadata": {
    "scrolled": true
   },
   "outputs": [
    {
     "data": {
      "text/html": [
       "<div>\n",
       "<style scoped>\n",
       "    .dataframe tbody tr th:only-of-type {\n",
       "        vertical-align: middle;\n",
       "    }\n",
       "\n",
       "    .dataframe tbody tr th {\n",
       "        vertical-align: top;\n",
       "    }\n",
       "\n",
       "    .dataframe thead th {\n",
       "        text-align: right;\n",
       "    }\n",
       "</style>\n",
       "<table border=\"1\" class=\"dataframe\">\n",
       "  <thead>\n",
       "    <tr style=\"text-align: right;\">\n",
       "      <th></th>\n",
       "      <th>race</th>\n",
       "      <th>gender</th>\n",
       "      <th>admission_type_id</th>\n",
       "      <th>discharge_disposition_id</th>\n",
       "      <th>admission_source_id</th>\n",
       "      <th>num_lab_procedures</th>\n",
       "      <th>diag_1</th>\n",
       "      <th>diag_2</th>\n",
       "      <th>diag_3</th>\n",
       "      <th>number_diagnoses</th>\n",
       "      <th>...</th>\n",
       "      <th>A1Cresult</th>\n",
       "      <th>change</th>\n",
       "      <th>diabetesMed</th>\n",
       "      <th>bc_time_in_hospital</th>\n",
       "      <th>bc_num_procedures</th>\n",
       "      <th>bc_num_medications</th>\n",
       "      <th>bc_number_inpatient</th>\n",
       "      <th>bc_number_24medications</th>\n",
       "      <th>bc_number_change_24medications</th>\n",
       "      <th>age_ordinal</th>\n",
       "    </tr>\n",
       "  </thead>\n",
       "  <tbody>\n",
       "    <tr>\n",
       "      <th>24990</th>\n",
       "      <td>AfricanAmerican</td>\n",
       "      <td>Female</td>\n",
       "      <td>Emergency</td>\n",
       "      <td>Routine</td>\n",
       "      <td>Transfer</td>\n",
       "      <td>46</td>\n",
       "      <td>Injury</td>\n",
       "      <td>Other</td>\n",
       "      <td>Diabetes</td>\n",
       "      <td>5</td>\n",
       "      <td>...</td>\n",
       "      <td>&gt;7</td>\n",
       "      <td>No</td>\n",
       "      <td>Yes</td>\n",
       "      <td>2.228491</td>\n",
       "      <td>0.000000</td>\n",
       "      <td>4.905422</td>\n",
       "      <td>0.000000</td>\n",
       "      <td>0.763310</td>\n",
       "      <td>0.000000</td>\n",
       "      <td>4.0</td>\n",
       "    </tr>\n",
       "    <tr>\n",
       "      <th>67555</th>\n",
       "      <td>Caucasian</td>\n",
       "      <td>Male</td>\n",
       "      <td>Elective</td>\n",
       "      <td>Routine</td>\n",
       "      <td>Referral</td>\n",
       "      <td>60</td>\n",
       "      <td>Other</td>\n",
       "      <td>Other</td>\n",
       "      <td>Diabetes</td>\n",
       "      <td>6</td>\n",
       "      <td>...</td>\n",
       "      <td>None</td>\n",
       "      <td>Ch</td>\n",
       "      <td>Yes</td>\n",
       "      <td>2.705037</td>\n",
       "      <td>0.567603</td>\n",
       "      <td>4.264329</td>\n",
       "      <td>0.000000</td>\n",
       "      <td>0.763310</td>\n",
       "      <td>0.216257</td>\n",
       "      <td>5.0</td>\n",
       "    </tr>\n",
       "    <tr>\n",
       "      <th>89978</th>\n",
       "      <td>Caucasian</td>\n",
       "      <td>Male</td>\n",
       "      <td>Elective</td>\n",
       "      <td>Routine</td>\n",
       "      <td>Referral</td>\n",
       "      <td>39</td>\n",
       "      <td>Other</td>\n",
       "      <td>Diabetes</td>\n",
       "      <td>Circulatory</td>\n",
       "      <td>6</td>\n",
       "      <td>...</td>\n",
       "      <td>Norm</td>\n",
       "      <td>No</td>\n",
       "      <td>No</td>\n",
       "      <td>0.726959</td>\n",
       "      <td>0.000000</td>\n",
       "      <td>4.264329</td>\n",
       "      <td>0.000000</td>\n",
       "      <td>0.000000</td>\n",
       "      <td>0.000000</td>\n",
       "      <td>4.0</td>\n",
       "    </tr>\n",
       "    <tr>\n",
       "      <th>90748</th>\n",
       "      <td>AfricanAmerican</td>\n",
       "      <td>Female</td>\n",
       "      <td>Urgent</td>\n",
       "      <td>Transfer_Other</td>\n",
       "      <td>Emergency room</td>\n",
       "      <td>80</td>\n",
       "      <td>Digestive</td>\n",
       "      <td>Circulatory</td>\n",
       "      <td>Other</td>\n",
       "      <td>9</td>\n",
       "      <td>...</td>\n",
       "      <td>None</td>\n",
       "      <td>Ch</td>\n",
       "      <td>Yes</td>\n",
       "      <td>2.029598</td>\n",
       "      <td>0.000000</td>\n",
       "      <td>5.050622</td>\n",
       "      <td>0.417329</td>\n",
       "      <td>0.763310</td>\n",
       "      <td>0.216257</td>\n",
       "      <td>6.0</td>\n",
       "    </tr>\n",
       "    <tr>\n",
       "      <th>54643</th>\n",
       "      <td>AfricanAmerican</td>\n",
       "      <td>Female</td>\n",
       "      <td>Elective</td>\n",
       "      <td>Routine</td>\n",
       "      <td>Referral</td>\n",
       "      <td>66</td>\n",
       "      <td>Other</td>\n",
       "      <td>Other</td>\n",
       "      <td>Diabetes</td>\n",
       "      <td>9</td>\n",
       "      <td>...</td>\n",
       "      <td>None</td>\n",
       "      <td>Ch</td>\n",
       "      <td>Yes</td>\n",
       "      <td>0.000000</td>\n",
       "      <td>1.034128</td>\n",
       "      <td>4.264329</td>\n",
       "      <td>0.000000</td>\n",
       "      <td>0.763310</td>\n",
       "      <td>0.216257</td>\n",
       "      <td>1.0</td>\n",
       "    </tr>\n",
       "    <tr>\n",
       "      <th>...</th>\n",
       "      <td>...</td>\n",
       "      <td>...</td>\n",
       "      <td>...</td>\n",
       "      <td>...</td>\n",
       "      <td>...</td>\n",
       "      <td>...</td>\n",
       "      <td>...</td>\n",
       "      <td>...</td>\n",
       "      <td>...</td>\n",
       "      <td>...</td>\n",
       "      <td>...</td>\n",
       "      <td>...</td>\n",
       "      <td>...</td>\n",
       "      <td>...</td>\n",
       "      <td>...</td>\n",
       "      <td>...</td>\n",
       "      <td>...</td>\n",
       "      <td>...</td>\n",
       "      <td>...</td>\n",
       "      <td>...</td>\n",
       "      <td>...</td>\n",
       "    </tr>\n",
       "    <tr>\n",
       "      <th>58668</th>\n",
       "      <td>Caucasian</td>\n",
       "      <td>Male</td>\n",
       "      <td>Emergency</td>\n",
       "      <td>AMA</td>\n",
       "      <td>Emergency room</td>\n",
       "      <td>57</td>\n",
       "      <td>Respiratory</td>\n",
       "      <td>Respiratory</td>\n",
       "      <td>Circulatory</td>\n",
       "      <td>7</td>\n",
       "      <td>...</td>\n",
       "      <td>None</td>\n",
       "      <td>No</td>\n",
       "      <td>Yes</td>\n",
       "      <td>0.724642</td>\n",
       "      <td>0.000000</td>\n",
       "      <td>3.064635</td>\n",
       "      <td>0.000000</td>\n",
       "      <td>0.760422</td>\n",
       "      <td>0.000000</td>\n",
       "      <td>7.0</td>\n",
       "    </tr>\n",
       "    <tr>\n",
       "      <th>24866</th>\n",
       "      <td>Caucasian</td>\n",
       "      <td>Male</td>\n",
       "      <td>Emergency</td>\n",
       "      <td>Routine</td>\n",
       "      <td>Emergency room</td>\n",
       "      <td>44</td>\n",
       "      <td>Respiratory</td>\n",
       "      <td>Respiratory</td>\n",
       "      <td>Diabetes</td>\n",
       "      <td>7</td>\n",
       "      <td>...</td>\n",
       "      <td>Norm</td>\n",
       "      <td>No</td>\n",
       "      <td>Yes</td>\n",
       "      <td>2.012522</td>\n",
       "      <td>0.000000</td>\n",
       "      <td>5.452116</td>\n",
       "      <td>0.000000</td>\n",
       "      <td>0.760422</td>\n",
       "      <td>0.000000</td>\n",
       "      <td>4.0</td>\n",
       "    </tr>\n",
       "    <tr>\n",
       "      <th>28929</th>\n",
       "      <td>Caucasian</td>\n",
       "      <td>Male</td>\n",
       "      <td>Not Available</td>\n",
       "      <td>Routine</td>\n",
       "      <td>Unknown</td>\n",
       "      <td>18</td>\n",
       "      <td>Respiratory</td>\n",
       "      <td>Other</td>\n",
       "      <td>Diabetes</td>\n",
       "      <td>7</td>\n",
       "      <td>...</td>\n",
       "      <td>None</td>\n",
       "      <td>No</td>\n",
       "      <td>No</td>\n",
       "      <td>0.724642</td>\n",
       "      <td>0.000000</td>\n",
       "      <td>3.546950</td>\n",
       "      <td>0.000000</td>\n",
       "      <td>0.000000</td>\n",
       "      <td>0.000000</td>\n",
       "      <td>6.0</td>\n",
       "    </tr>\n",
       "    <tr>\n",
       "      <th>43837</th>\n",
       "      <td>AfricanAmerican</td>\n",
       "      <td>Female</td>\n",
       "      <td>Emergency</td>\n",
       "      <td>HHC</td>\n",
       "      <td>Transfer</td>\n",
       "      <td>44</td>\n",
       "      <td>Injury</td>\n",
       "      <td>Injury</td>\n",
       "      <td>Circulatory</td>\n",
       "      <td>9</td>\n",
       "      <td>...</td>\n",
       "      <td>None</td>\n",
       "      <td>Ch</td>\n",
       "      <td>Yes</td>\n",
       "      <td>2.380591</td>\n",
       "      <td>0.801174</td>\n",
       "      <td>7.183484</td>\n",
       "      <td>0.000000</td>\n",
       "      <td>2.004142</td>\n",
       "      <td>0.220888</td>\n",
       "      <td>7.0</td>\n",
       "    </tr>\n",
       "    <tr>\n",
       "      <th>72094</th>\n",
       "      <td>Caucasian</td>\n",
       "      <td>Male</td>\n",
       "      <td>Emergency</td>\n",
       "      <td>Routine</td>\n",
       "      <td>Emergency room</td>\n",
       "      <td>53</td>\n",
       "      <td>Genitourinary</td>\n",
       "      <td>Other</td>\n",
       "      <td>Diabetes</td>\n",
       "      <td>8</td>\n",
       "      <td>...</td>\n",
       "      <td>None</td>\n",
       "      <td>Ch</td>\n",
       "      <td>Yes</td>\n",
       "      <td>1.179129</td>\n",
       "      <td>0.000000</td>\n",
       "      <td>4.526352</td>\n",
       "      <td>0.000000</td>\n",
       "      <td>1.273984</td>\n",
       "      <td>0.000000</td>\n",
       "      <td>6.0</td>\n",
       "    </tr>\n",
       "  </tbody>\n",
       "</table>\n",
       "<p>66256 rows × 21 columns</p>\n",
       "</div>"
      ],
      "text/plain": [
       "                  race  gender admission_type_id discharge_disposition_id  \\\n",
       "24990  AfricanAmerican  Female         Emergency                  Routine   \n",
       "67555        Caucasian    Male          Elective                  Routine   \n",
       "89978        Caucasian    Male          Elective                  Routine   \n",
       "90748  AfricanAmerican  Female            Urgent           Transfer_Other   \n",
       "54643  AfricanAmerican  Female          Elective                  Routine   \n",
       "...                ...     ...               ...                      ...   \n",
       "58668        Caucasian    Male         Emergency                      AMA   \n",
       "24866        Caucasian    Male         Emergency                  Routine   \n",
       "28929        Caucasian    Male     Not Available                  Routine   \n",
       "43837  AfricanAmerican  Female         Emergency                      HHC   \n",
       "72094        Caucasian    Male         Emergency                  Routine   \n",
       "\n",
       "      admission_source_id  num_lab_procedures         diag_1       diag_2  \\\n",
       "24990            Transfer                  46         Injury        Other   \n",
       "67555            Referral                  60          Other        Other   \n",
       "89978            Referral                  39          Other     Diabetes   \n",
       "90748      Emergency room                  80      Digestive  Circulatory   \n",
       "54643            Referral                  66          Other        Other   \n",
       "...                   ...                 ...            ...          ...   \n",
       "58668      Emergency room                  57    Respiratory  Respiratory   \n",
       "24866      Emergency room                  44    Respiratory  Respiratory   \n",
       "28929             Unknown                  18    Respiratory        Other   \n",
       "43837            Transfer                  44         Injury       Injury   \n",
       "72094      Emergency room                  53  Genitourinary        Other   \n",
       "\n",
       "            diag_3  number_diagnoses  ... A1Cresult change diabetesMed  \\\n",
       "24990     Diabetes                 5  ...        >7     No         Yes   \n",
       "67555     Diabetes                 6  ...      None     Ch         Yes   \n",
       "89978  Circulatory                 6  ...      Norm     No          No   \n",
       "90748        Other                 9  ...      None     Ch         Yes   \n",
       "54643     Diabetes                 9  ...      None     Ch         Yes   \n",
       "...            ...               ...  ...       ...    ...         ...   \n",
       "58668  Circulatory                 7  ...      None     No         Yes   \n",
       "24866     Diabetes                 7  ...      Norm     No         Yes   \n",
       "28929     Diabetes                 7  ...      None     No          No   \n",
       "43837  Circulatory                 9  ...      None     Ch         Yes   \n",
       "72094     Diabetes                 8  ...      None     Ch         Yes   \n",
       "\n",
       "      bc_time_in_hospital  bc_num_procedures  bc_num_medications  \\\n",
       "24990            2.228491           0.000000            4.905422   \n",
       "67555            2.705037           0.567603            4.264329   \n",
       "89978            0.726959           0.000000            4.264329   \n",
       "90748            2.029598           0.000000            5.050622   \n",
       "54643            0.000000           1.034128            4.264329   \n",
       "...                   ...                ...                 ...   \n",
       "58668            0.724642           0.000000            3.064635   \n",
       "24866            2.012522           0.000000            5.452116   \n",
       "28929            0.724642           0.000000            3.546950   \n",
       "43837            2.380591           0.801174            7.183484   \n",
       "72094            1.179129           0.000000            4.526352   \n",
       "\n",
       "       bc_number_inpatient  bc_number_24medications  \\\n",
       "24990             0.000000                 0.763310   \n",
       "67555             0.000000                 0.763310   \n",
       "89978             0.000000                 0.000000   \n",
       "90748             0.417329                 0.763310   \n",
       "54643             0.000000                 0.763310   \n",
       "...                    ...                      ...   \n",
       "58668             0.000000                 0.760422   \n",
       "24866             0.000000                 0.760422   \n",
       "28929             0.000000                 0.000000   \n",
       "43837             0.000000                 2.004142   \n",
       "72094             0.000000                 1.273984   \n",
       "\n",
       "       bc_number_change_24medications  age_ordinal  \n",
       "24990                        0.000000          4.0  \n",
       "67555                        0.216257          5.0  \n",
       "89978                        0.000000          4.0  \n",
       "90748                        0.216257          6.0  \n",
       "54643                        0.216257          1.0  \n",
       "...                               ...          ...  \n",
       "58668                        0.000000          7.0  \n",
       "24866                        0.000000          4.0  \n",
       "28929                        0.000000          6.0  \n",
       "43837                        0.220888          7.0  \n",
       "72094                        0.000000          6.0  \n",
       "\n",
       "[66256 rows x 21 columns]"
      ]
     },
     "execution_count": 104,
     "metadata": {},
     "output_type": "execute_result"
    }
   ],
   "source": [
    "train_test_2"
   ]
  },
  {
   "cell_type": "code",
   "execution_count": 105,
   "id": "99f66b5e",
   "metadata": {},
   "outputs": [],
   "source": [
    "train_test_new = pd.get_dummies(train_test_2)"
   ]
  },
  {
   "cell_type": "code",
   "execution_count": 106,
   "id": "ca7c9aa7",
   "metadata": {},
   "outputs": [
    {
     "data": {
      "text/plain": [
       "((45902, 21), (45902, 77), (20354, 21), (20354, 77))"
      ]
     },
     "execution_count": 106,
     "metadata": {},
     "output_type": "execute_result"
    }
   ],
   "source": [
    "X_train_3 = train_test_new.iloc[:X_train_2.shape[0],:]\n",
    "X_test_3 = train_test_new.iloc[X_train_2.shape[0]:,:]\n",
    "X_train_2.shape, X_train_3.shape, X_test_2.shape, X_test_3.shape"
   ]
  },
  {
   "cell_type": "markdown",
   "id": "2eae3c78",
   "metadata": {},
   "source": [
    "### Handling class imbalance"
   ]
  },
  {
   "cell_type": "code",
   "execution_count": 107,
   "id": "5d1f6140",
   "metadata": {},
   "outputs": [
    {
     "data": {
      "text/html": [
       "<div>\n",
       "<style scoped>\n",
       "    .dataframe tbody tr th:only-of-type {\n",
       "        vertical-align: middle;\n",
       "    }\n",
       "\n",
       "    .dataframe tbody tr th {\n",
       "        vertical-align: top;\n",
       "    }\n",
       "\n",
       "    .dataframe thead th {\n",
       "        text-align: right;\n",
       "    }\n",
       "</style>\n",
       "<table border=\"1\" class=\"dataframe\">\n",
       "  <thead>\n",
       "    <tr style=\"text-align: right;\">\n",
       "      <th></th>\n",
       "      <th>num_lab_procedures</th>\n",
       "      <th>number_diagnoses</th>\n",
       "      <th>bc_time_in_hospital</th>\n",
       "      <th>bc_num_procedures</th>\n",
       "      <th>bc_num_medications</th>\n",
       "      <th>bc_number_inpatient</th>\n",
       "      <th>bc_number_24medications</th>\n",
       "      <th>bc_number_change_24medications</th>\n",
       "      <th>age_ordinal</th>\n",
       "      <th>race_AfricanAmerican</th>\n",
       "      <th>...</th>\n",
       "      <th>max_glu_serum_None</th>\n",
       "      <th>max_glu_serum_Norm</th>\n",
       "      <th>A1Cresult_&gt;7</th>\n",
       "      <th>A1Cresult_&gt;8</th>\n",
       "      <th>A1Cresult_None</th>\n",
       "      <th>A1Cresult_Norm</th>\n",
       "      <th>change_Ch</th>\n",
       "      <th>change_No</th>\n",
       "      <th>diabetesMed_No</th>\n",
       "      <th>diabetesMed_Yes</th>\n",
       "    </tr>\n",
       "  </thead>\n",
       "  <tbody>\n",
       "    <tr>\n",
       "      <th>24990</th>\n",
       "      <td>46</td>\n",
       "      <td>5</td>\n",
       "      <td>2.228491</td>\n",
       "      <td>0.000000</td>\n",
       "      <td>4.905422</td>\n",
       "      <td>0.000000</td>\n",
       "      <td>0.763310</td>\n",
       "      <td>0.000000</td>\n",
       "      <td>4.0</td>\n",
       "      <td>1</td>\n",
       "      <td>...</td>\n",
       "      <td>1</td>\n",
       "      <td>0</td>\n",
       "      <td>1</td>\n",
       "      <td>0</td>\n",
       "      <td>0</td>\n",
       "      <td>0</td>\n",
       "      <td>0</td>\n",
       "      <td>1</td>\n",
       "      <td>0</td>\n",
       "      <td>1</td>\n",
       "    </tr>\n",
       "    <tr>\n",
       "      <th>67555</th>\n",
       "      <td>60</td>\n",
       "      <td>6</td>\n",
       "      <td>2.705037</td>\n",
       "      <td>0.567603</td>\n",
       "      <td>4.264329</td>\n",
       "      <td>0.000000</td>\n",
       "      <td>0.763310</td>\n",
       "      <td>0.216257</td>\n",
       "      <td>5.0</td>\n",
       "      <td>0</td>\n",
       "      <td>...</td>\n",
       "      <td>1</td>\n",
       "      <td>0</td>\n",
       "      <td>0</td>\n",
       "      <td>0</td>\n",
       "      <td>1</td>\n",
       "      <td>0</td>\n",
       "      <td>1</td>\n",
       "      <td>0</td>\n",
       "      <td>0</td>\n",
       "      <td>1</td>\n",
       "    </tr>\n",
       "    <tr>\n",
       "      <th>89978</th>\n",
       "      <td>39</td>\n",
       "      <td>6</td>\n",
       "      <td>0.726959</td>\n",
       "      <td>0.000000</td>\n",
       "      <td>4.264329</td>\n",
       "      <td>0.000000</td>\n",
       "      <td>0.000000</td>\n",
       "      <td>0.000000</td>\n",
       "      <td>4.0</td>\n",
       "      <td>0</td>\n",
       "      <td>...</td>\n",
       "      <td>1</td>\n",
       "      <td>0</td>\n",
       "      <td>0</td>\n",
       "      <td>0</td>\n",
       "      <td>0</td>\n",
       "      <td>1</td>\n",
       "      <td>0</td>\n",
       "      <td>1</td>\n",
       "      <td>1</td>\n",
       "      <td>0</td>\n",
       "    </tr>\n",
       "    <tr>\n",
       "      <th>90748</th>\n",
       "      <td>80</td>\n",
       "      <td>9</td>\n",
       "      <td>2.029598</td>\n",
       "      <td>0.000000</td>\n",
       "      <td>5.050622</td>\n",
       "      <td>0.417329</td>\n",
       "      <td>0.763310</td>\n",
       "      <td>0.216257</td>\n",
       "      <td>6.0</td>\n",
       "      <td>1</td>\n",
       "      <td>...</td>\n",
       "      <td>1</td>\n",
       "      <td>0</td>\n",
       "      <td>0</td>\n",
       "      <td>0</td>\n",
       "      <td>1</td>\n",
       "      <td>0</td>\n",
       "      <td>1</td>\n",
       "      <td>0</td>\n",
       "      <td>0</td>\n",
       "      <td>1</td>\n",
       "    </tr>\n",
       "    <tr>\n",
       "      <th>54643</th>\n",
       "      <td>66</td>\n",
       "      <td>9</td>\n",
       "      <td>0.000000</td>\n",
       "      <td>1.034128</td>\n",
       "      <td>4.264329</td>\n",
       "      <td>0.000000</td>\n",
       "      <td>0.763310</td>\n",
       "      <td>0.216257</td>\n",
       "      <td>1.0</td>\n",
       "      <td>1</td>\n",
       "      <td>...</td>\n",
       "      <td>1</td>\n",
       "      <td>0</td>\n",
       "      <td>0</td>\n",
       "      <td>0</td>\n",
       "      <td>1</td>\n",
       "      <td>0</td>\n",
       "      <td>1</td>\n",
       "      <td>0</td>\n",
       "      <td>0</td>\n",
       "      <td>1</td>\n",
       "    </tr>\n",
       "    <tr>\n",
       "      <th>...</th>\n",
       "      <td>...</td>\n",
       "      <td>...</td>\n",
       "      <td>...</td>\n",
       "      <td>...</td>\n",
       "      <td>...</td>\n",
       "      <td>...</td>\n",
       "      <td>...</td>\n",
       "      <td>...</td>\n",
       "      <td>...</td>\n",
       "      <td>...</td>\n",
       "      <td>...</td>\n",
       "      <td>...</td>\n",
       "      <td>...</td>\n",
       "      <td>...</td>\n",
       "      <td>...</td>\n",
       "      <td>...</td>\n",
       "      <td>...</td>\n",
       "      <td>...</td>\n",
       "      <td>...</td>\n",
       "      <td>...</td>\n",
       "      <td>...</td>\n",
       "    </tr>\n",
       "    <tr>\n",
       "      <th>65260</th>\n",
       "      <td>79</td>\n",
       "      <td>9</td>\n",
       "      <td>0.726959</td>\n",
       "      <td>0.000000</td>\n",
       "      <td>4.085466</td>\n",
       "      <td>0.000000</td>\n",
       "      <td>0.763310</td>\n",
       "      <td>0.000000</td>\n",
       "      <td>6.0</td>\n",
       "      <td>0</td>\n",
       "      <td>...</td>\n",
       "      <td>1</td>\n",
       "      <td>0</td>\n",
       "      <td>1</td>\n",
       "      <td>0</td>\n",
       "      <td>0</td>\n",
       "      <td>0</td>\n",
       "      <td>0</td>\n",
       "      <td>1</td>\n",
       "      <td>0</td>\n",
       "      <td>1</td>\n",
       "    </tr>\n",
       "    <tr>\n",
       "      <th>44777</th>\n",
       "      <td>30</td>\n",
       "      <td>7</td>\n",
       "      <td>0.726959</td>\n",
       "      <td>0.942829</td>\n",
       "      <td>5.190851</td>\n",
       "      <td>0.000000</td>\n",
       "      <td>0.763310</td>\n",
       "      <td>0.000000</td>\n",
       "      <td>7.0</td>\n",
       "      <td>0</td>\n",
       "      <td>...</td>\n",
       "      <td>1</td>\n",
       "      <td>0</td>\n",
       "      <td>0</td>\n",
       "      <td>0</td>\n",
       "      <td>1</td>\n",
       "      <td>0</td>\n",
       "      <td>0</td>\n",
       "      <td>1</td>\n",
       "      <td>0</td>\n",
       "      <td>1</td>\n",
       "    </tr>\n",
       "    <tr>\n",
       "      <th>100437</th>\n",
       "      <td>57</td>\n",
       "      <td>6</td>\n",
       "      <td>1.525975</td>\n",
       "      <td>0.805664</td>\n",
       "      <td>3.487122</td>\n",
       "      <td>0.000000</td>\n",
       "      <td>0.000000</td>\n",
       "      <td>0.000000</td>\n",
       "      <td>9.0</td>\n",
       "      <td>0</td>\n",
       "      <td>...</td>\n",
       "      <td>0</td>\n",
       "      <td>1</td>\n",
       "      <td>0</td>\n",
       "      <td>0</td>\n",
       "      <td>1</td>\n",
       "      <td>0</td>\n",
       "      <td>0</td>\n",
       "      <td>1</td>\n",
       "      <td>1</td>\n",
       "      <td>0</td>\n",
       "    </tr>\n",
       "    <tr>\n",
       "      <th>61510</th>\n",
       "      <td>35</td>\n",
       "      <td>6</td>\n",
       "      <td>2.404191</td>\n",
       "      <td>0.805664</td>\n",
       "      <td>4.085466</td>\n",
       "      <td>0.000000</td>\n",
       "      <td>1.281796</td>\n",
       "      <td>0.000000</td>\n",
       "      <td>8.0</td>\n",
       "      <td>1</td>\n",
       "      <td>...</td>\n",
       "      <td>1</td>\n",
       "      <td>0</td>\n",
       "      <td>0</td>\n",
       "      <td>0</td>\n",
       "      <td>1</td>\n",
       "      <td>0</td>\n",
       "      <td>1</td>\n",
       "      <td>0</td>\n",
       "      <td>0</td>\n",
       "      <td>1</td>\n",
       "    </tr>\n",
       "    <tr>\n",
       "      <th>63785</th>\n",
       "      <td>57</td>\n",
       "      <td>9</td>\n",
       "      <td>1.799691</td>\n",
       "      <td>0.942829</td>\n",
       "      <td>5.050622</td>\n",
       "      <td>0.000000</td>\n",
       "      <td>0.000000</td>\n",
       "      <td>0.000000</td>\n",
       "      <td>5.0</td>\n",
       "      <td>0</td>\n",
       "      <td>...</td>\n",
       "      <td>1</td>\n",
       "      <td>0</td>\n",
       "      <td>0</td>\n",
       "      <td>0</td>\n",
       "      <td>1</td>\n",
       "      <td>0</td>\n",
       "      <td>0</td>\n",
       "      <td>1</td>\n",
       "      <td>1</td>\n",
       "      <td>0</td>\n",
       "    </tr>\n",
       "  </tbody>\n",
       "</table>\n",
       "<p>45902 rows × 77 columns</p>\n",
       "</div>"
      ],
      "text/plain": [
       "        num_lab_procedures  number_diagnoses  bc_time_in_hospital  \\\n",
       "24990                   46                 5             2.228491   \n",
       "67555                   60                 6             2.705037   \n",
       "89978                   39                 6             0.726959   \n",
       "90748                   80                 9             2.029598   \n",
       "54643                   66                 9             0.000000   \n",
       "...                    ...               ...                  ...   \n",
       "65260                   79                 9             0.726959   \n",
       "44777                   30                 7             0.726959   \n",
       "100437                  57                 6             1.525975   \n",
       "61510                   35                 6             2.404191   \n",
       "63785                   57                 9             1.799691   \n",
       "\n",
       "        bc_num_procedures  bc_num_medications  bc_number_inpatient  \\\n",
       "24990            0.000000            4.905422             0.000000   \n",
       "67555            0.567603            4.264329             0.000000   \n",
       "89978            0.000000            4.264329             0.000000   \n",
       "90748            0.000000            5.050622             0.417329   \n",
       "54643            1.034128            4.264329             0.000000   \n",
       "...                   ...                 ...                  ...   \n",
       "65260            0.000000            4.085466             0.000000   \n",
       "44777            0.942829            5.190851             0.000000   \n",
       "100437           0.805664            3.487122             0.000000   \n",
       "61510            0.805664            4.085466             0.000000   \n",
       "63785            0.942829            5.050622             0.000000   \n",
       "\n",
       "        bc_number_24medications  bc_number_change_24medications  age_ordinal  \\\n",
       "24990                  0.763310                        0.000000          4.0   \n",
       "67555                  0.763310                        0.216257          5.0   \n",
       "89978                  0.000000                        0.000000          4.0   \n",
       "90748                  0.763310                        0.216257          6.0   \n",
       "54643                  0.763310                        0.216257          1.0   \n",
       "...                         ...                             ...          ...   \n",
       "65260                  0.763310                        0.000000          6.0   \n",
       "44777                  0.763310                        0.000000          7.0   \n",
       "100437                 0.000000                        0.000000          9.0   \n",
       "61510                  1.281796                        0.000000          8.0   \n",
       "63785                  0.000000                        0.000000          5.0   \n",
       "\n",
       "        race_AfricanAmerican  ...  max_glu_serum_None  max_glu_serum_Norm  \\\n",
       "24990                      1  ...                   1                   0   \n",
       "67555                      0  ...                   1                   0   \n",
       "89978                      0  ...                   1                   0   \n",
       "90748                      1  ...                   1                   0   \n",
       "54643                      1  ...                   1                   0   \n",
       "...                      ...  ...                 ...                 ...   \n",
       "65260                      0  ...                   1                   0   \n",
       "44777                      0  ...                   1                   0   \n",
       "100437                     0  ...                   0                   1   \n",
       "61510                      1  ...                   1                   0   \n",
       "63785                      0  ...                   1                   0   \n",
       "\n",
       "        A1Cresult_>7  A1Cresult_>8  A1Cresult_None  A1Cresult_Norm  change_Ch  \\\n",
       "24990              1             0               0               0          0   \n",
       "67555              0             0               1               0          1   \n",
       "89978              0             0               0               1          0   \n",
       "90748              0             0               1               0          1   \n",
       "54643              0             0               1               0          1   \n",
       "...              ...           ...             ...             ...        ...   \n",
       "65260              1             0               0               0          0   \n",
       "44777              0             0               1               0          0   \n",
       "100437             0             0               1               0          0   \n",
       "61510              0             0               1               0          1   \n",
       "63785              0             0               1               0          0   \n",
       "\n",
       "        change_No  diabetesMed_No  diabetesMed_Yes  \n",
       "24990           1               0                1  \n",
       "67555           0               0                1  \n",
       "89978           1               1                0  \n",
       "90748           0               0                1  \n",
       "54643           0               0                1  \n",
       "...           ...             ...              ...  \n",
       "65260           1               0                1  \n",
       "44777           1               0                1  \n",
       "100437          1               1                0  \n",
       "61510           0               0                1  \n",
       "63785           1               1                0  \n",
       "\n",
       "[45902 rows x 77 columns]"
      ]
     },
     "execution_count": 107,
     "metadata": {},
     "output_type": "execute_result"
    }
   ],
   "source": [
    "X_train_3"
   ]
  },
  {
   "cell_type": "code",
   "execution_count": 108,
   "id": "8f4bddda",
   "metadata": {},
   "outputs": [
    {
     "data": {
      "text/plain": [
       "68"
      ]
     },
     "execution_count": 108,
     "metadata": {},
     "output_type": "execute_result"
    }
   ],
   "source": [
    "cat_index = []\n",
    "for i in range(len(X_train_3.columns)):\n",
    "    if X_train_3.iloc[:,i].dtype=='uint8':\n",
    "        cat_index.append(i)\n",
    "len(cat_index)"
   ]
  },
  {
   "cell_type": "code",
   "execution_count": 109,
   "id": "3326a483",
   "metadata": {},
   "outputs": [],
   "source": [
    "from imblearn.over_sampling import SMOTENC\n",
    "smnc = SMOTENC(categorical_features = cat_index,random_state=41,sampling_strategy = 'minority')\n",
    "\n",
    "SMOTE_X, SMOTE_y = smnc.fit_resample(X_train_3, y_train_1)"
   ]
  },
  {
   "cell_type": "code",
   "execution_count": 110,
   "id": "d3af2298",
   "metadata": {
    "scrolled": false
   },
   "outputs": [
    {
     "data": {
      "text/plain": [
       "((81408, 77), (81408,))"
      ]
     },
     "execution_count": 110,
     "metadata": {},
     "output_type": "execute_result"
    }
   ],
   "source": [
    "SMOTE_X.shape,SMOTE_y.shape"
   ]
  },
  {
   "cell_type": "code",
   "execution_count": 111,
   "id": "70f78143",
   "metadata": {},
   "outputs": [],
   "source": [
    "from sklearn.preprocessing import MinMaxScaler\n",
    "scaler = MinMaxScaler()\n",
    "scaler.fit(SMOTE_X)\n",
    "\n",
    "# normalize\n",
    "X_train_4  = scaler.transform(SMOTE_X)\n",
    "X_test_4 = scaler.transform(X_test_3)"
   ]
  },
  {
   "cell_type": "code",
   "execution_count": 112,
   "id": "c2a6006a",
   "metadata": {},
   "outputs": [
    {
     "data": {
      "text/plain": [
       "((81408, 77), (20354, 77))"
      ]
     },
     "execution_count": 112,
     "metadata": {},
     "output_type": "execute_result"
    }
   ],
   "source": [
    "X_train_4.shape,X_test_4.shape"
   ]
  },
  {
   "cell_type": "code",
   "execution_count": 113,
   "id": "42a420e4",
   "metadata": {},
   "outputs": [],
   "source": [
    "### normalize+remove low-variance features\n",
    "from sklearn.feature_selection import VarianceThreshold\n",
    "sel = VarianceThreshold(threshold=(.98 * (1 - .98)))\n",
    "sel.fit(SMOTE_X)\n",
    "X_train_5 = sel.transform(SMOTE_X)\n",
    "X_test_5 = sel.transform(X_test_3)"
   ]
  },
  {
   "cell_type": "code",
   "execution_count": 114,
   "id": "d349517f",
   "metadata": {},
   "outputs": [
    {
     "data": {
      "text/plain": [
       "((81408, 54), (20354, 54))"
      ]
     },
     "execution_count": 114,
     "metadata": {},
     "output_type": "execute_result"
    }
   ],
   "source": [
    "X_train_5.shape,X_test_5.shape"
   ]
  },
  {
   "cell_type": "code",
   "execution_count": 115,
   "id": "8b847347",
   "metadata": {},
   "outputs": [],
   "source": [
    "from sklearn import feature_selection \n",
    "mi = feature_selection.mutual_info_classif(X_train_4, SMOTE_y, discrete_features='auto', \n",
    "                                              n_neighbors=5, copy=True, \n",
    "                                              random_state=41)"
   ]
  },
  {
   "cell_type": "code",
   "execution_count": 116,
   "id": "be358cd8",
   "metadata": {},
   "outputs": [],
   "source": [
    "mi = pd.DataFrame(mi,columns = ['mutual info'])\n",
    "mi['variable'] = X_train_3.columns"
   ]
  },
  {
   "cell_type": "code",
   "execution_count": 117,
   "id": "4a11a40a",
   "metadata": {},
   "outputs": [],
   "source": [
    "mi = mi.sort_values(by = 'mutual info',ascending = False)"
   ]
  },
  {
   "cell_type": "code",
   "execution_count": 118,
   "id": "75145522",
   "metadata": {},
   "outputs": [
    {
     "data": {
      "text/html": [
       "<div>\n",
       "<style scoped>\n",
       "    .dataframe tbody tr th:only-of-type {\n",
       "        vertical-align: middle;\n",
       "    }\n",
       "\n",
       "    .dataframe tbody tr th {\n",
       "        vertical-align: top;\n",
       "    }\n",
       "\n",
       "    .dataframe thead th {\n",
       "        text-align: right;\n",
       "    }\n",
       "</style>\n",
       "<table border=\"1\" class=\"dataframe\">\n",
       "  <thead>\n",
       "    <tr style=\"text-align: right;\">\n",
       "      <th></th>\n",
       "      <th>mutual info</th>\n",
       "      <th>variable</th>\n",
       "    </tr>\n",
       "  </thead>\n",
       "  <tbody>\n",
       "    <tr>\n",
       "      <th>4</th>\n",
       "      <td>0.370062</td>\n",
       "      <td>bc_num_medications</td>\n",
       "    </tr>\n",
       "    <tr>\n",
       "      <th>2</th>\n",
       "      <td>0.301312</td>\n",
       "      <td>bc_time_in_hospital</td>\n",
       "    </tr>\n",
       "    <tr>\n",
       "      <th>5</th>\n",
       "      <td>0.254035</td>\n",
       "      <td>bc_number_inpatient</td>\n",
       "    </tr>\n",
       "    <tr>\n",
       "      <th>3</th>\n",
       "      <td>0.222332</td>\n",
       "      <td>bc_num_procedures</td>\n",
       "    </tr>\n",
       "    <tr>\n",
       "      <th>6</th>\n",
       "      <td>0.166067</td>\n",
       "      <td>bc_number_24medications</td>\n",
       "    </tr>\n",
       "    <tr>\n",
       "      <th>...</th>\n",
       "      <td>...</td>\n",
       "      <td>...</td>\n",
       "    </tr>\n",
       "    <tr>\n",
       "      <th>66</th>\n",
       "      <td>0.000000</td>\n",
       "      <td>max_glu_serum_&gt;300</td>\n",
       "    </tr>\n",
       "    <tr>\n",
       "      <th>20</th>\n",
       "      <td>0.000000</td>\n",
       "      <td>admission_type_id_Not Available</td>\n",
       "    </tr>\n",
       "    <tr>\n",
       "      <th>30</th>\n",
       "      <td>0.000000</td>\n",
       "      <td>discharge_disposition_id_Transfer_Other</td>\n",
       "    </tr>\n",
       "    <tr>\n",
       "      <th>22</th>\n",
       "      <td>0.000000</td>\n",
       "      <td>admission_type_id_Trauma Center</td>\n",
       "    </tr>\n",
       "    <tr>\n",
       "      <th>32</th>\n",
       "      <td>0.000000</td>\n",
       "      <td>admission_source_id_Court/Law enforcement</td>\n",
       "    </tr>\n",
       "  </tbody>\n",
       "</table>\n",
       "<p>77 rows × 2 columns</p>\n",
       "</div>"
      ],
      "text/plain": [
       "    mutual info                                   variable\n",
       "4      0.370062                         bc_num_medications\n",
       "2      0.301312                        bc_time_in_hospital\n",
       "5      0.254035                        bc_number_inpatient\n",
       "3      0.222332                          bc_num_procedures\n",
       "6      0.166067                    bc_number_24medications\n",
       "..          ...                                        ...\n",
       "66     0.000000                         max_glu_serum_>300\n",
       "20     0.000000            admission_type_id_Not Available\n",
       "30     0.000000    discharge_disposition_id_Transfer_Other\n",
       "22     0.000000            admission_type_id_Trauma Center\n",
       "32     0.000000  admission_source_id_Court/Law enforcement\n",
       "\n",
       "[77 rows x 2 columns]"
      ]
     },
     "execution_count": 118,
     "metadata": {},
     "output_type": "execute_result"
    }
   ],
   "source": [
    "mi"
   ]
  },
  {
   "cell_type": "code",
   "execution_count": 119,
   "id": "3e2e7ed1",
   "metadata": {},
   "outputs": [
    {
     "data": {
      "text/plain": [
       "12"
      ]
     },
     "execution_count": 119,
     "metadata": {},
     "output_type": "execute_result"
    }
   ],
   "source": [
    "len(mi[mi['mutual info']>0.015])"
   ]
  },
  {
   "cell_type": "code",
   "execution_count": 120,
   "id": "7a017dc8",
   "metadata": {},
   "outputs": [],
   "source": [
    "select_fea = mi[mi['mutual info']>0.015]['variable']"
   ]
  },
  {
   "cell_type": "code",
   "execution_count": 121,
   "id": "b3c6e1c4",
   "metadata": {},
   "outputs": [
    {
     "data": {
      "image/png": "[encoded data removed]",
      "text/plain": [
       "<Figure size 432x288 with 1 Axes>"
      ]
     },
     "metadata": {},
     "output_type": "display_data"
    }
   ],
   "source": [
    "from sklearn.decomposition import PCA\n",
    "pca = PCA()\n",
    "pca.fit(SMOTE_X)\n",
    "cumsum = np.cumsum(pca.explained_variance_ratio_)\n",
    "# Plot the explained variance vs number of dimensions\n",
    "plt.figure(figsize = (6,4))\n",
    "plt.plot(cumsum, linewidth=3)\n",
    "plt.axis([0, 100, 0, 1])\n",
    "plt.xlabel(\"dimensions\")\n",
    "plt.ylabel(\"explained variance\")\n",
    "plt.grid(True)\n",
    "plt.show()"
   ]
  },
  {
   "cell_type": "code",
   "execution_count": 122,
   "id": "975b10e3",
   "metadata": {},
   "outputs": [],
   "source": [
    "# pca after normalize\n",
    "pca = PCA(n_components=0.99).fit(SMOTE_X)\n",
    "\n",
    "X_train_pca = pca.transform(SMOTE_X)\n",
    "X_test_pca = pca.transform(X_test_3)"
   ]
  },
  {
   "cell_type": "code",
   "execution_count": 123,
   "id": "8fae2e05",
   "metadata": {},
   "outputs": [
    {
     "data": {
      "text/plain": [
       "((81408, 8), (20354, 8))"
      ]
     },
     "execution_count": 123,
     "metadata": {},
     "output_type": "execute_result"
    }
   ],
   "source": [
    "X_train_pca.shape,X_test_pca.shape"
   ]
  },
  {
   "cell_type": "code",
   "execution_count": 124,
   "id": "722c374d",
   "metadata": {},
   "outputs": [],
   "source": [
    "X_train_4 = pd.DataFrame(X_train_4,columns = X_train_3.columns)\n",
    "X_test_4 = pd.DataFrame(X_test_4, columns = X_train_3.columns)"
   ]
  },
  {
   "cell_type": "code",
   "execution_count": 125,
   "id": "8562c85e",
   "metadata": {
    "scrolled": true
   },
   "outputs": [
    {
     "data": {
      "text/html": [
       "<div>\n",
       "<style scoped>\n",
       "    .dataframe tbody tr th:only-of-type {\n",
       "        vertical-align: middle;\n",
       "    }\n",
       "\n",
       "    .dataframe tbody tr th {\n",
       "        vertical-align: top;\n",
       "    }\n",
       "\n",
       "    .dataframe thead th {\n",
       "        text-align: right;\n",
       "    }\n",
       "</style>\n",
       "<table border=\"1\" class=\"dataframe\">\n",
       "  <thead>\n",
       "    <tr style=\"text-align: right;\">\n",
       "      <th></th>\n",
       "      <th>bc_num_medications</th>\n",
       "      <th>bc_time_in_hospital</th>\n",
       "      <th>bc_number_inpatient</th>\n",
       "      <th>bc_num_procedures</th>\n",
       "      <th>bc_number_24medications</th>\n",
       "      <th>bc_number_change_24medications</th>\n",
       "      <th>age_ordinal</th>\n",
       "      <th>A1Cresult_None</th>\n",
       "      <th>diag_1_Respiratory</th>\n",
       "      <th>diag_3_Diabetes</th>\n",
       "      <th>admission_type_id_Urgent</th>\n",
       "      <th>diag_2_Respiratory</th>\n",
       "    </tr>\n",
       "  </thead>\n",
       "  <tbody>\n",
       "    <tr>\n",
       "      <th>0</th>\n",
       "      <td>0.832468</td>\n",
       "      <td>0.701591</td>\n",
       "      <td>0.000000</td>\n",
       "      <td>0.000000</td>\n",
       "      <td>0.296976</td>\n",
       "      <td>0.000000</td>\n",
       "      <td>0.444444</td>\n",
       "      <td>0.0</td>\n",
       "      <td>0.0</td>\n",
       "      <td>1.0</td>\n",
       "      <td>0.0</td>\n",
       "      <td>0.0</td>\n",
       "    </tr>\n",
       "    <tr>\n",
       "      <th>1</th>\n",
       "      <td>0.456180</td>\n",
       "      <td>0.851621</td>\n",
       "      <td>0.000000</td>\n",
       "      <td>0.493258</td>\n",
       "      <td>0.296976</td>\n",
       "      <td>0.953624</td>\n",
       "      <td>0.555556</td>\n",
       "      <td>1.0</td>\n",
       "      <td>0.0</td>\n",
       "      <td>1.0</td>\n",
       "      <td>0.0</td>\n",
       "      <td>0.0</td>\n",
       "    </tr>\n",
       "    <tr>\n",
       "      <th>2</th>\n",
       "      <td>0.456180</td>\n",
       "      <td>0.228867</td>\n",
       "      <td>0.000000</td>\n",
       "      <td>0.000000</td>\n",
       "      <td>0.000000</td>\n",
       "      <td>0.000000</td>\n",
       "      <td>0.444444</td>\n",
       "      <td>0.0</td>\n",
       "      <td>0.0</td>\n",
       "      <td>0.0</td>\n",
       "      <td>0.0</td>\n",
       "      <td>0.0</td>\n",
       "    </tr>\n",
       "    <tr>\n",
       "      <th>3</th>\n",
       "      <td>0.917693</td>\n",
       "      <td>0.638974</td>\n",
       "      <td>0.909611</td>\n",
       "      <td>0.000000</td>\n",
       "      <td>0.296976</td>\n",
       "      <td>0.953624</td>\n",
       "      <td>0.666667</td>\n",
       "      <td>1.0</td>\n",
       "      <td>0.0</td>\n",
       "      <td>0.0</td>\n",
       "      <td>1.0</td>\n",
       "      <td>0.0</td>\n",
       "    </tr>\n",
       "    <tr>\n",
       "      <th>4</th>\n",
       "      <td>0.456180</td>\n",
       "      <td>0.000000</td>\n",
       "      <td>0.000000</td>\n",
       "      <td>0.898677</td>\n",
       "      <td>0.296976</td>\n",
       "      <td>0.953624</td>\n",
       "      <td>0.111111</td>\n",
       "      <td>1.0</td>\n",
       "      <td>0.0</td>\n",
       "      <td>1.0</td>\n",
       "      <td>0.0</td>\n",
       "      <td>0.0</td>\n",
       "    </tr>\n",
       "    <tr>\n",
       "      <th>...</th>\n",
       "      <td>...</td>\n",
       "      <td>...</td>\n",
       "      <td>...</td>\n",
       "      <td>...</td>\n",
       "      <td>...</td>\n",
       "      <td>...</td>\n",
       "      <td>...</td>\n",
       "      <td>...</td>\n",
       "      <td>...</td>\n",
       "      <td>...</td>\n",
       "      <td>...</td>\n",
       "      <td>...</td>\n",
       "    </tr>\n",
       "    <tr>\n",
       "      <th>81403</th>\n",
       "      <td>0.707392</td>\n",
       "      <td>0.590651</td>\n",
       "      <td>0.000000</td>\n",
       "      <td>0.467416</td>\n",
       "      <td>0.296976</td>\n",
       "      <td>0.000000</td>\n",
       "      <td>1.000000</td>\n",
       "      <td>1.0</td>\n",
       "      <td>0.0</td>\n",
       "      <td>0.0</td>\n",
       "      <td>0.0</td>\n",
       "      <td>0.0</td>\n",
       "    </tr>\n",
       "    <tr>\n",
       "      <th>81404</th>\n",
       "      <td>0.311824</td>\n",
       "      <td>0.000000</td>\n",
       "      <td>0.165014</td>\n",
       "      <td>0.000000</td>\n",
       "      <td>0.296976</td>\n",
       "      <td>0.000000</td>\n",
       "      <td>0.685921</td>\n",
       "      <td>1.0</td>\n",
       "      <td>0.0</td>\n",
       "      <td>0.0</td>\n",
       "      <td>0.0</td>\n",
       "      <td>0.0</td>\n",
       "    </tr>\n",
       "    <tr>\n",
       "      <th>81405</th>\n",
       "      <td>0.822635</td>\n",
       "      <td>0.511167</td>\n",
       "      <td>0.000000</td>\n",
       "      <td>0.544729</td>\n",
       "      <td>0.296976</td>\n",
       "      <td>0.106050</td>\n",
       "      <td>0.777778</td>\n",
       "      <td>1.0</td>\n",
       "      <td>0.0</td>\n",
       "      <td>0.0</td>\n",
       "      <td>0.0</td>\n",
       "      <td>0.0</td>\n",
       "    </tr>\n",
       "    <tr>\n",
       "      <th>81406</th>\n",
       "      <td>0.637263</td>\n",
       "      <td>0.330897</td>\n",
       "      <td>0.463509</td>\n",
       "      <td>0.000000</td>\n",
       "      <td>0.296976</td>\n",
       "      <td>0.000000</td>\n",
       "      <td>0.888889</td>\n",
       "      <td>1.0</td>\n",
       "      <td>0.0</td>\n",
       "      <td>0.0</td>\n",
       "      <td>0.0</td>\n",
       "      <td>0.0</td>\n",
       "    </tr>\n",
       "    <tr>\n",
       "      <th>81407</th>\n",
       "      <td>0.022965</td>\n",
       "      <td>0.233947</td>\n",
       "      <td>0.950736</td>\n",
       "      <td>0.493258</td>\n",
       "      <td>0.010458</td>\n",
       "      <td>0.033583</td>\n",
       "      <td>0.444444</td>\n",
       "      <td>1.0</td>\n",
       "      <td>0.0</td>\n",
       "      <td>0.0</td>\n",
       "      <td>0.0</td>\n",
       "      <td>0.0</td>\n",
       "    </tr>\n",
       "  </tbody>\n",
       "</table>\n",
       "<p>81408 rows × 12 columns</p>\n",
       "</div>"
      ],
      "text/plain": [
       "       bc_num_medications  bc_time_in_hospital  bc_number_inpatient  \\\n",
       "0                0.832468             0.701591             0.000000   \n",
       "1                0.456180             0.851621             0.000000   \n",
       "2                0.456180             0.228867             0.000000   \n",
       "3                0.917693             0.638974             0.909611   \n",
       "4                0.456180             0.000000             0.000000   \n",
       "...                   ...                  ...                  ...   \n",
       "81403            0.707392             0.590651             0.000000   \n",
       "81404            0.311824             0.000000             0.165014   \n",
       "81405            0.822635             0.511167             0.000000   \n",
       "81406            0.637263             0.330897             0.463509   \n",
       "81407            0.022965             0.233947             0.950736   \n",
       "\n",
       "       bc_num_procedures  bc_number_24medications  \\\n",
       "0               0.000000                 0.296976   \n",
       "1               0.493258                 0.296976   \n",
       "2               0.000000                 0.000000   \n",
       "3               0.000000                 0.296976   \n",
       "4               0.898677                 0.296976   \n",
       "...                  ...                      ...   \n",
       "81403           0.467416                 0.296976   \n",
       "81404           0.000000                 0.296976   \n",
       "81405           0.544729                 0.296976   \n",
       "81406           0.000000                 0.296976   \n",
       "81407           0.493258                 0.010458   \n",
       "\n",
       "       bc_number_change_24medications  age_ordinal  A1Cresult_None  \\\n",
       "0                            0.000000     0.444444             0.0   \n",
       "1                            0.953624     0.555556             1.0   \n",
       "2                            0.000000     0.444444             0.0   \n",
       "3                            0.953624     0.666667             1.0   \n",
       "4                            0.953624     0.111111             1.0   \n",
       "...                               ...          ...             ...   \n",
       "81403                        0.000000     1.000000             1.0   \n",
       "81404                        0.000000     0.685921             1.0   \n",
       "81405                        0.106050     0.777778             1.0   \n",
       "81406                        0.000000     0.888889             1.0   \n",
       "81407                        0.033583     0.444444             1.0   \n",
       "\n",
       "       diag_1_Respiratory  diag_3_Diabetes  admission_type_id_Urgent  \\\n",
       "0                     0.0              1.0                       0.0   \n",
       "1                     0.0              1.0                       0.0   \n",
       "2                     0.0              0.0                       0.0   \n",
       "3                     0.0              0.0                       1.0   \n",
       "4                     0.0              1.0                       0.0   \n",
       "...                   ...              ...                       ...   \n",
       "81403                 0.0              0.0                       0.0   \n",
       "81404                 0.0              0.0                       0.0   \n",
       "81405                 0.0              0.0                       0.0   \n",
       "81406                 0.0              0.0                       0.0   \n",
       "81407                 0.0              0.0                       0.0   \n",
       "\n",
       "       diag_2_Respiratory  \n",
       "0                     0.0  \n",
       "1                     0.0  \n",
       "2                     0.0  \n",
       "3                     0.0  \n",
       "4                     0.0  \n",
       "...                   ...  \n",
       "81403                 0.0  \n",
       "81404                 0.0  \n",
       "81405                 0.0  \n",
       "81406                 0.0  \n",
       "81407                 0.0  \n",
       "\n",
       "[81408 rows x 12 columns]"
      ]
     },
     "execution_count": 125,
     "metadata": {},
     "output_type": "execute_result"
    }
   ],
   "source": [
    "X_train_4[select_fea]"
   ]
  },
  {
   "cell_type": "markdown",
   "id": "b842d2d0",
   "metadata": {},
   "source": [
    "# Modelling"
   ]
  },
  {
   "cell_type": "code",
   "execution_count": 126,
   "id": "3ee2e28a",
   "metadata": {},
   "outputs": [],
   "source": [
    "def clf(classifier,X_train, y_train, X_test, y_test):\n",
    "    clf = classifier.fit(X_train, y_train)\n",
    "    clf_train_acc = clf.score(X_train, y_train).round(4)\n",
    "    clf_test_acc = clf.score(X_test, y_test).round(4)\n",
    "    y_pred = clf.predict(X_test)\n",
    "    clf_test_precision = metrics.precision_score(y_test, y_pred).round(4)\n",
    "    clf_test_recall = metrics.recall_score(y_test, y_pred).round(4)\n",
    "    clf_test_F1 = metrics.f1_score(y_test, y_pred).round(4)\n",
    "    clf_test_bal_acc = metrics.balanced_accuracy_score(y_test, y_pred).round(4)\n",
    "    clf_test_auc = metrics.roc_auc_score(y_test, clf.predict_proba(X_test)[:, 1]).round(4)\n",
    "    report = metrics.confusion_matrix(y_test, y_pred)\n",
    "    scores = [clf_test_acc,clf_test_precision,clf_test_recall,clf_test_F1,clf_test_bal_acc,clf_test_auc]\n",
    "    return report,scores"
   ]
  },
  {
   "cell_type": "markdown",
   "id": "d4a04da6",
   "metadata": {},
   "source": [
    "## Logit regression"
   ]
  },
  {
   "cell_type": "code",
   "execution_count": 127,
   "id": "afeccfa0",
   "metadata": {},
   "outputs": [
    {
     "name": "stdout",
     "output_type": "stream",
     "text": [
      "test scores: [0.5978, 0.9045, 0.6119, 0.73, 0.5489, 0.5764]\n",
      "confusion matrix:\n",
      " [[ 1104  1168]\n",
      " [ 7018 11064]]\n"
     ]
    }
   ],
   "source": [
    "from sklearn.linear_model import LogisticRegression\n",
    "lr = LogisticRegression(C=0.3, l1_ratio=0.7, penalty='elasticnet', random_state=41,\n",
    "                   solver='saga')\n",
    "lr_report, lr_scores = clf(lr, X_train_4[select_fea],SMOTE_y,X_test_4[select_fea],y_test_1)\n",
    "print('test scores:',lr_scores)\n",
    "print('confusion matrix:\\n',lr_report)"
   ]
  },
  {
   "cell_type": "markdown",
   "id": "5df16caa",
   "metadata": {},
   "source": [
    "## Random forest"
   ]
  },
  {
   "cell_type": "code",
   "execution_count": 128,
   "id": "f336e5fb",
   "metadata": {
    "scrolled": true
   },
   "outputs": [
    {
     "name": "stdout",
     "output_type": "stream",
     "text": [
      "test scores: [0.6971, 0.9115, 0.73, 0.8107, 0.5828, 0.6039]\n",
      "confusion matrix:\n",
      " [[  990  1282]\n",
      " [ 4883 13199]]\n"
     ]
    }
   ],
   "source": [
    "from sklearn.ensemble import RandomForestClassifier\n",
    "rf = RandomForestClassifier(n_estimators = 100,max_depth=1,random_state = 41)\n",
    "rf_report, rf_scores = clf(rf, X_train_4[select_fea],SMOTE_y,X_test_4[select_fea],y_test_1)\n",
    "print('test scores:',rf_scores)\n",
    "print('confusion matrix:\\n',rf_report)"
   ]
  },
  {
   "cell_type": "markdown",
   "id": "5f475afa",
   "metadata": {},
   "source": [
    "## Naive Bayes"
   ]
  },
  {
   "cell_type": "code",
   "execution_count": 129,
   "id": "9dc6f572",
   "metadata": {},
   "outputs": [
    {
     "name": "stdout",
     "output_type": "stream",
     "text": [
      "test scores: [0.4863, 0.8954, 0.4776, 0.6229, 0.5167, 0.5635]\n",
      "confusion matrix:\n",
      " [[1263 1009]\n",
      " [9446 8636]]\n"
     ]
    }
   ],
   "source": [
    "from sklearn import naive_bayes\n",
    "\n",
    "nb = naive_bayes.MultinomialNB(alpha=1, fit_prior=False, class_prior=None)\n",
    "nb_report, nb_scores = clf(nb, X_train_4[select_fea],SMOTE_y,X_test_4[select_fea],y_test_1)\n",
    "print('test scores:',nb_scores)\n",
    "print('confusion matrix:\\n',nb_report)"
   ]
  },
  {
   "cell_type": "markdown",
   "id": "8ebf9e23",
   "metadata": {},
   "source": [
    "## GradientBoostingClassifier"
   ]
  },
  {
   "cell_type": "code",
   "execution_count": 130,
   "id": "88179611",
   "metadata": {},
   "outputs": [
    {
     "name": "stdout",
     "output_type": "stream",
     "text": [
      "test scores: [0.6614, 0.9157, 0.6816, 0.7815, 0.5912, 0.6022]\n",
      "confusion matrix:\n",
      " [[ 1138  1134]\n",
      " [ 5758 12324]]\n"
     ]
    }
   ],
   "source": [
    "from sklearn.ensemble import GradientBoostingClassifier\n",
    "gb = GradientBoostingClassifier(n_estimators=100, learning_rate=0.01, max_depth=1, random_state=41)\n",
    "gb_report, gb_scores = clf(gb, X_train_4[select_fea],SMOTE_y,X_test_4[select_fea],y_test_1)\n",
    "print('test scores:',gb_scores)\n",
    "print('confusion matrix:\\n',gb_report)"
   ]
  },
  {
   "cell_type": "markdown",
   "id": "67d41cf3",
   "metadata": {},
   "source": [
    "## CNN"
   ]
  },
  {
   "cell_type": "code",
   "execution_count": 131,
   "id": "b96cf5c8",
   "metadata": {},
   "outputs": [
    {
     "name": "stdout",
     "output_type": "stream",
     "text": [
      "Epoch 1/3\n",
      "2544/2544 [==============================] - 6s 2ms/step - loss: 0.4697 - accuracy: 0.7625 - val_loss: 0.5212 - val_accuracy: 0.8157\n",
      "Epoch 2/3\n",
      "2544/2544 [==============================] - 5s 2ms/step - loss: 0.4050 - accuracy: 0.7977 - val_loss: 0.6020 - val_accuracy: 0.7908\n",
      "Epoch 3/3\n",
      "2544/2544 [==============================] - 5s 2ms/step - loss: 0.3916 - accuracy: 0.8054 - val_loss: 0.6989 - val_accuracy: 0.8196\n",
      "              precision    recall  f1-score   support\n",
      "\n",
      "           0       0.17      0.16      0.17      2272\n",
      "           1       0.90      0.90      0.90     18082\n",
      "\n",
      "    accuracy                           0.82     20354\n",
      "   macro avg       0.53      0.53      0.53     20354\n",
      "weighted avg       0.81      0.82      0.82     20354\n",
      "\n"
     ]
    }
   ],
   "source": [
    "input_feature = X_train_4[select_fea].shape[1]\n",
    "X_train_4_array = np.array(X_train_4[select_fea])\n",
    "X_test_4_array = np.array(X_test_4[select_fea])\n",
    "\n",
    "X_train_5 = X_train_4_array.reshape(X_train_4[select_fea].shape[0], input_feature,1)\n",
    "X_test_5 = X_test_4_array.reshape(X_test_4[select_fea].shape[0],input_feature,1)\n",
    "SMOTE_y_array=np.array(SMOTE_y)\n",
    "y_test_1_array = np.array(y_test_1)\n",
    "\n",
    "from tensorflow.keras.layers import Conv1D, MaxPooling1D, Flatten, Dense\n",
    "import tensorflow.keras as keras\n",
    "model = keras.Sequential()\n",
    " \n",
    "model.add(Conv1D(32, 3, activation='relu', padding = 'same', input_shape = (input_feature,1)))\n",
    "model.add(MaxPooling1D())\n",
    "model.add(Conv1D(64, 3, activation='relu', padding = 'same'))\n",
    "model.add(MaxPooling1D())\n",
    "model.add(Conv1D(128, 3, activation='relu', padding = 'same'))\n",
    "model.add(MaxPooling1D())\n",
    "          \n",
    "model.add(Flatten())\n",
    "model.add(Dense(128, activation='relu'))\n",
    "model.add(Dense(1, activation='sigmoid'))\n",
    "\n",
    "from tensorflow.keras.optimizers import Adam\n",
    "optimizer = Adam(lr=0.001)\n",
    "model.compile(optimizer=optimizer, loss='binary_crossentropy', metrics=['accuracy'])\n",
    "\n",
    "epoch_num = 3\n",
    "model.fit(X_train_5, SMOTE_y_array, \n",
    "              epochs=epoch_num,\n",
    "              validation_data = (X_test_5, y_test_1_array))\n",
    "\n",
    "predict_y = (model.predict(X_test_5) > 0.5).astype(\"int32\")\n",
    "\n",
    "report = metrics.classification_report(y_test_1_array, predict_y)\n",
    "print(report)\n",
    "\n",
    "cnn_precision = metrics.precision_score(y_test_1, predict_y)\n",
    "cnn_recall = metrics.recall_score(y_test_1, predict_y)\n",
    "cnn_f1 = metrics.f1_score(y_test_1, predict_y)\n",
    "cnn_bal = metrics.balanced_accuracy_score(y_test_1, predict_y)\n",
    "cnn_auc = metrics.roc_auc_score(y_test_1, predict_y)\n"
   ]
  },
  {
   "cell_type": "markdown",
   "id": "457dce94",
   "metadata": {},
   "source": [
    "## Voting ensemble"
   ]
  },
  {
   "cell_type": "code",
   "execution_count": 132,
   "id": "1b32c71d",
   "metadata": {},
   "outputs": [
    {
     "name": "stdout",
     "output_type": "stream",
     "text": [
      "test scores: [0.6872, 0.9113, 0.7177, 0.803, 0.5809, 0.6018]\n",
      "confusion matrix:\n",
      " [[ 1009  1263]\n",
      " [ 5104 12978]]\n"
     ]
    }
   ],
   "source": [
    "from sklearn.ensemble import VotingClassifier\n",
    "\n",
    "lr = LogisticRegression(C=0.3, l1_ratio=0.7, penalty='elasticnet', random_state=41,\n",
    "                   solver='saga')\n",
    "rf = RandomForestClassifier(n_estimators = 100,max_depth=1,random_state = 41)\n",
    "gb = GradientBoostingClassifier(n_estimators=100, learning_rate=0.01, max_depth=1, random_state=41)\n",
    "\n",
    "ve = VotingClassifier(\n",
    "        estimators=[('lr', lr), ('rf', rf), ('gb', gb)],\n",
    "        voting='soft', weights=[2, 2, 2]\n",
    "    )\n",
    "\n",
    "ve_report, ve_scores = clf(ve, X_train_4[select_fea],SMOTE_y,X_test_4[select_fea],y_test_1)\n",
    "print('test scores:',ve_scores)\n",
    "print('confusion matrix:\\n',ve_report)"
   ]
  },
  {
   "cell_type": "markdown",
   "id": "a5f3e913",
   "metadata": {},
   "source": [
    "# XGBoosting"
   ]
  },
  {
   "cell_type": "code",
   "execution_count": 133,
   "id": "3caa22ec",
   "metadata": {},
   "outputs": [
    {
     "name": "stdout",
     "output_type": "stream",
     "text": [
      "[20:32:09] WARNING: C:/Users/Administrator/workspace/xgboost-win64_release_1.4.0/src/learner.cc:1095: Starting in XGBoost 1.3.0, the default evaluation metric used with the objective 'binary:logistic' was changed from 'error' to 'logloss'. Explicitly set eval_metric if you'd like to restore the old behavior.\n"
     ]
    },
    {
     "data": {
      "text/plain": [
       "XGBRegressor(base_score=0.5, booster='gbtree', colsample_bylevel=1,\n",
       "             colsample_bynode=1, colsample_bytree=1, gamma=0, gpu_id=-1,\n",
       "             importance_type='gain', interaction_constraints='',\n",
       "             learning_rate=0.05, max_delta_step=0, max_depth=4,\n",
       "             min_child_weight=1, missing=nan, monotone_constraints='()',\n",
       "             n_estimators=750, n_jobs=8, num_parallel_tree=1,\n",
       "             objective='binary:logistic', random_state=41, reg_alpha=0,\n",
       "             reg_lambda=1, scale_pos_weight=1, subsample=1, tree_method='exact',\n",
       "             validate_parameters=1, verbosity=None)"
      ]
     },
     "execution_count": 133,
     "metadata": {},
     "output_type": "execute_result"
    }
   ],
   "source": [
    "import pandas as pd\n",
    "import xgboost as xgb\n",
    "import numpy as np\n",
    "\n",
    "import re\n",
    "\n",
    "regex = re.compile(r\"\\[|\\]|<\", re.IGNORECASE)\n",
    "\n",
    "X_train_4.columns = [regex.sub(\"_\", col) \n",
    "                   if any(x in str(col) for x in set(('[', ']', '<'))) else col for col in X_train_4.columns.values]\n",
    "X_test_4.columns = [regex.sub(\"_\", col) \n",
    "                   if any(x in str(col) for x in set(('[', ']', '<'))) else col for col in X_test_4.columns.values]\n",
    "\n",
    "\n",
    "xbst = xgb.XGBRegressor(\n",
    "    learning_rate = 0.05, \n",
    "    max_depth = 4,\n",
    "    n_estimators = 750,\n",
    "    subsample = 1, \n",
    "    reg_lambda =1, \n",
    "    objective = \"binary:logistic\",\n",
    "    random_state=41)\n",
    "xbst.fit(X_train_4, SMOTE_y)"
   ]
  },
  {
   "cell_type": "code",
   "execution_count": 136,
   "id": "fe8343d1",
   "metadata": {},
   "outputs": [
    {
     "name": "stdout",
     "output_type": "stream",
     "text": [
      "[[ 1904   368]\n",
      " [13117  4965]]\n",
      "              precision    recall  f1-score   support\n",
      "\n",
      "           0       0.13      0.84      0.22      2272\n",
      "           1       0.93      0.27      0.42     18082\n",
      "\n",
      "    accuracy                           0.34     20354\n",
      "   macro avg       0.53      0.56      0.32     20354\n",
      "weighted avg       0.84      0.34      0.40     20354\n",
      "\n"
     ]
    }
   ],
   "source": [
    "y_pred = xbst.predict(X_test_4)\n",
    "y_pred = np.where(y_pred > 0.5, 1, 0)\n",
    "from sklearn.metrics import precision_score, precision_recall_curve, plot_precision_recall_curve, plot_roc_curve, roc_auc_score, roc_curve, f1_score, accuracy_score, recall_score\n",
    "from sklearn.metrics import plot_confusion_matrix, confusion_matrix, accuracy_score, classification_report, confusion_matrix\n",
    "xgb_f1 = f1_score(y_test_1, y_pred)\n",
    "xgb_acc = accuracy_score(y_test_1, y_pred)\n",
    "xgb_recall = recall_score(y_test_1, y_pred)\n",
    "xgb_auc = roc_auc_score(y_test_1, y_pred)\n",
    "\n",
    "print(confusion_matrix(y_test_1, y_pred))\n",
    "\n",
    "print(classification_report(y_test_1, y_pred))\n",
    "\n"
   ]
  },
  {
   "cell_type": "code",
   "execution_count": 139,
   "id": "a415f938",
   "metadata": {},
   "outputs": [
    {
     "name": "stdout",
     "output_type": "stream",
     "text": [
      "Fitting 5 folds for each of 270 candidates, totalling 1350 fits\n",
      "[22:07:24] WARNING: C:/Users/Administrator/workspace/xgboost-win64_release_1.4.0/src/learner.cc:1095: Starting in XGBoost 1.3.0, the default evaluation metric used with the objective 'binary:logistic' was changed from 'error' to 'logloss'. Explicitly set eval_metric if you'd like to restore the old behavior.\n",
      "[0]\tvalidation_0-logloss:0.67663\n",
      "[1]\tvalidation_0-logloss:0.66338\n",
      "[2]\tvalidation_0-logloss:0.65774\n",
      "[3]\tvalidation_0-logloss:0.64749\n",
      "[4]\tvalidation_0-logloss:0.64096\n",
      "[5]\tvalidation_0-logloss:0.63226\n",
      "[6]\tvalidation_0-logloss:0.62144\n",
      "[7]\tvalidation_0-logloss:0.61838\n",
      "[8]\tvalidation_0-logloss:0.61184\n",
      "[9]\tvalidation_0-logloss:0.60678\n",
      "[10]\tvalidation_0-logloss:0.60562\n",
      "[11]\tvalidation_0-logloss:0.59709\n",
      "[12]\tvalidation_0-logloss:0.59271\n",
      "[13]\tvalidation_0-logloss:0.58917\n",
      "[14]\tvalidation_0-logloss:0.58705\n",
      "[15]\tvalidation_0-logloss:0.58389\n",
      "[16]\tvalidation_0-logloss:0.59213\n",
      "[17]\tvalidation_0-logloss:0.59092\n",
      "[18]\tvalidation_0-logloss:0.58735\n",
      "[19]\tvalidation_0-logloss:0.58447\n",
      "[20]\tvalidation_0-logloss:0.58175\n",
      "[21]\tvalidation_0-logloss:0.57971\n",
      "[22]\tvalidation_0-logloss:0.57699\n",
      "[23]\tvalidation_0-logloss:0.58951\n",
      "[24]\tvalidation_0-logloss:0.58654\n",
      "[25]\tvalidation_0-logloss:0.58518\n",
      "[26]\tvalidation_0-logloss:0.58452\n",
      "[27]\tvalidation_0-logloss:0.58053\n",
      "[28]\tvalidation_0-logloss:0.57892\n",
      "[29]\tvalidation_0-logloss:0.57679\n",
      "[30]\tvalidation_0-logloss:0.57430\n",
      "[31]\tvalidation_0-logloss:0.57071\n",
      "[32]\tvalidation_0-logloss:0.56845\n",
      "[33]\tvalidation_0-logloss:0.57822\n",
      "[34]\tvalidation_0-logloss:0.58043\n",
      "[35]\tvalidation_0-logloss:0.57748\n",
      "[36]\tvalidation_0-logloss:0.57571\n",
      "[37]\tvalidation_0-logloss:0.58315\n",
      "[38]\tvalidation_0-logloss:0.58154\n",
      "[39]\tvalidation_0-logloss:0.57958\n",
      "[40]\tvalidation_0-logloss:0.58154\n",
      "[41]\tvalidation_0-logloss:0.57998\n",
      "[42]\tvalidation_0-logloss:0.58285\n",
      "[43]\tvalidation_0-logloss:0.58605\n",
      "[44]\tvalidation_0-logloss:0.59180\n",
      "[45]\tvalidation_0-logloss:0.59001\n",
      "[46]\tvalidation_0-logloss:0.59509\n",
      "[47]\tvalidation_0-logloss:0.59360\n",
      "[48]\tvalidation_0-logloss:0.58789\n",
      "[49]\tvalidation_0-logloss:0.58540\n",
      "[50]\tvalidation_0-logloss:0.58350\n",
      "[51]\tvalidation_0-logloss:0.58171\n",
      "[52]\tvalidation_0-logloss:0.57952\n",
      "[53]\tvalidation_0-logloss:0.57855\n",
      "[54]\tvalidation_0-logloss:0.57705\n",
      "[55]\tvalidation_0-logloss:0.57540\n",
      "[56]\tvalidation_0-logloss:0.58363\n",
      "[57]\tvalidation_0-logloss:0.58183\n",
      "[58]\tvalidation_0-logloss:0.59382\n",
      "[59]\tvalidation_0-logloss:0.59210\n",
      "[60]\tvalidation_0-logloss:0.59044\n",
      "[61]\tvalidation_0-logloss:0.58877\n",
      "[62]\tvalidation_0-logloss:0.58735\n",
      "[63]\tvalidation_0-logloss:0.58560\n",
      "[64]\tvalidation_0-logloss:0.58464\n",
      "[65]\tvalidation_0-logloss:0.58301\n",
      "[66]\tvalidation_0-logloss:0.58121\n",
      "[67]\tvalidation_0-logloss:0.57950\n",
      "[68]\tvalidation_0-logloss:0.57801\n",
      "[69]\tvalidation_0-logloss:0.57659\n",
      "[70]\tvalidation_0-logloss:0.57522\n",
      "[71]\tvalidation_0-logloss:0.57347\n",
      "[72]\tvalidation_0-logloss:0.57190\n",
      "[73]\tvalidation_0-logloss:0.57336\n",
      "[74]\tvalidation_0-logloss:0.57839\n",
      "[75]\tvalidation_0-logloss:0.57807\n",
      "[76]\tvalidation_0-logloss:0.58993\n",
      "[77]\tvalidation_0-logloss:0.58939\n",
      "[78]\tvalidation_0-logloss:0.58819\n",
      "[79]\tvalidation_0-logloss:0.59651\n",
      "[80]\tvalidation_0-logloss:0.59542\n",
      "[81]\tvalidation_0-logloss:0.59939\n",
      "[82]\tvalidation_0-logloss:0.59775\n",
      "[83]\tvalidation_0-logloss:0.60502\n",
      "[84]\tvalidation_0-logloss:0.61065\n",
      "[85]\tvalidation_0-logloss:0.60987\n",
      "[86]\tvalidation_0-logloss:0.60793\n",
      "[87]\tvalidation_0-logloss:0.60692\n",
      "[88]\tvalidation_0-logloss:0.60583\n",
      "[89]\tvalidation_0-logloss:0.60457\n",
      "[90]\tvalidation_0-logloss:0.60338\n",
      "[91]\tvalidation_0-logloss:0.60192\n",
      "[92]\tvalidation_0-logloss:0.60091\n",
      "[93]\tvalidation_0-logloss:0.59891\n",
      "[94]\tvalidation_0-logloss:0.59780\n",
      "[95]\tvalidation_0-logloss:0.59670\n",
      "[96]\tvalidation_0-logloss:0.59610\n",
      "[97]\tvalidation_0-logloss:0.59493\n",
      "[98]\tvalidation_0-logloss:0.60162\n",
      "[99]\tvalidation_0-logloss:0.60096\n",
      "[100]\tvalidation_0-logloss:0.59998\n",
      "[101]\tvalidation_0-logloss:0.59894\n",
      "[102]\tvalidation_0-logloss:0.59791\n",
      "[103]\tvalidation_0-logloss:0.59703\n",
      "[104]\tvalidation_0-logloss:0.59593\n",
      "[105]\tvalidation_0-logloss:0.59504\n",
      "[106]\tvalidation_0-logloss:0.59418\n",
      "[107]\tvalidation_0-logloss:0.59317\n",
      "[108]\tvalidation_0-logloss:0.59308\n",
      "[109]\tvalidation_0-logloss:0.59188\n",
      "[110]\tvalidation_0-logloss:0.59082\n",
      "[111]\tvalidation_0-logloss:0.58993\n",
      "[112]\tvalidation_0-logloss:0.58899\n",
      "[113]\tvalidation_0-logloss:0.58816\n",
      "[114]\tvalidation_0-logloss:0.58707\n",
      "[115]\tvalidation_0-logloss:0.58628\n",
      "[116]\tvalidation_0-logloss:0.58566\n",
      "[117]\tvalidation_0-logloss:0.58823\n",
      "[118]\tvalidation_0-logloss:0.58696\n",
      "[119]\tvalidation_0-logloss:0.58615\n",
      "[120]\tvalidation_0-logloss:0.58526\n",
      "[121]\tvalidation_0-logloss:0.58477\n",
      "[122]\tvalidation_0-logloss:0.58391\n",
      "[123]\tvalidation_0-logloss:0.58837\n",
      "[124]\tvalidation_0-logloss:0.58687\n",
      "[125]\tvalidation_0-logloss:0.58597\n",
      "[126]\tvalidation_0-logloss:0.58509\n",
      "[127]\tvalidation_0-logloss:0.58429\n",
      "[128]\tvalidation_0-logloss:0.58384\n",
      "[129]\tvalidation_0-logloss:0.58284\n",
      "[130]\tvalidation_0-logloss:0.58176\n",
      "[131]\tvalidation_0-logloss:0.58094\n",
      "Wall time: 1h 26min 8s\n"
     ]
    },
    {
     "data": {
      "text/plain": [
       "({'booster': 'gbtree',\n",
       "  'colsample_bytree': 0.5,\n",
       "  'learning_rate': 0.1,\n",
       "  'max_depth': 3,\n",
       "  'min_child_weight': 1,\n",
       "  'n_estimators': 250,\n",
       "  'random_state': 41,\n",
       "  'subsample': 1.0},\n",
       " 0.8952112266788907)"
      ]
     },
     "execution_count": 139,
     "metadata": {},
     "output_type": "execute_result"
    }
   ],
   "source": [
    "%%time\n",
    "from sklearn.model_selection import GridSearchCV\n",
    "model = xgb.XGBClassifier(objective='binary:logistic')\n",
    "tuning_parameters = {\n",
    "    'learning_rate':[0.01,0.05,0.1],\n",
    "    'n_estimators' : [250,300,600,1000,1500],\n",
    "    'max_depth':[2,3,4],\n",
    "    'subsample':[0.5,0.8,1.0],\n",
    "    'random_state': [41],\n",
    "    'booster': [\"gbtree\"],\n",
    "    'min_child_weight': [1],\n",
    "    'colsample_bytree': [0.5, 1]\n",
    "}\n",
    "\n",
    "from sklearn.model_selection import KFold\n",
    "kfold = KFold(n_splits = 5,\n",
    "                     shuffle = True,\n",
    "                     random_state = 41).split(X = X_train_4,\n",
    "                                                y = SMOTE_y)\n",
    "\n",
    "\n",
    "grid_search = GridSearchCV(estimator = model,\n",
    "                           param_grid = tuning_parameters,\n",
    "                            scoring = \"balanced_accuracy\",\n",
    "                            n_jobs = 6,\n",
    "                            cv = kfold,\n",
    "                            verbose = 5)\n",
    "\n",
    "\n",
    "\n",
    "tuned_model = grid_search.fit(X = X_train_4,\n",
    "                               y = SMOTE_y)\n",
    "grid_search.best_params_, grid_search.best_score_\n",
    "\n",
    "\n",
    "                              \n",
    "#                               ({'booster': 'gbtree',\n",
    "#   'colsample_bytree': 0.5,\n",
    "#   'learning_rate': 0.1,\n",
    "#   'max_depth': 3,\n",
    "#   'min_child_weight': 1,\n",
    "#   'n_estimators': 250,\n",
    "#   'random_state': 41,\n",
    "#   'subsample': 1.0},\n",
    "#  0.8952112266788907)"
   ]
  },
  {
   "cell_type": "code",
   "execution_count": 141,
   "id": "e0afa48f",
   "metadata": {},
   "outputs": [
    {
     "name": "stdout",
     "output_type": "stream",
     "text": [
      "[23:27:53] WARNING: C:/Users/Administrator/workspace/xgboost-win64_release_1.4.0/src/learner.cc:573: \n",
      "Parameters: { \"n_estimators\" } might not be used.\n",
      "\n",
      "  This may not be accurate due to some parameters are only used in language bindings but\n",
      "  passed down to XGBoost core.  Or some parameters are not used but slip through this\n",
      "  verification. Please open an issue if you find above cases.\n",
      "\n",
      "\n",
      "[23:27:53] WARNING: C:/Users/Administrator/workspace/xgboost-win64_release_1.4.0/src/learner.cc:1095: Starting in XGBoost 1.3.0, the default evaluation metric used with the objective 'binary:logistic' was changed from 'error' to 'logloss'. Explicitly set eval_metric if you'd like to restore the old behavior.\n",
      "[0]\teval-logloss:0.67663\ttrain-logloss:0.67205\n",
      "[30]\teval-logloss:0.57430\ttrain-logloss:0.42252\n",
      "[60]\teval-logloss:0.59044\ttrain-logloss:0.35031\n",
      "[90]\teval-logloss:0.60338\ttrain-logloss:0.30838\n",
      "[120]\teval-logloss:0.58526\ttrain-logloss:0.28623\n",
      "[150]\teval-logloss:0.58588\ttrain-logloss:0.26814\n",
      "[180]\teval-logloss:0.59364\ttrain-logloss:0.25439\n",
      "[199]\teval-logloss:0.61660\ttrain-logloss:0.24678\n",
      "[[ 1010  1262]\n",
      " [ 5707 12375]]\n",
      "              precision    recall  f1-score   support\n",
      "\n",
      "           0       0.15      0.44      0.22      2272\n",
      "           1       0.91      0.68      0.78     18082\n",
      "\n",
      "    accuracy                           0.66     20354\n",
      "   macro avg       0.53      0.56      0.50     20354\n",
      "weighted avg       0.82      0.66      0.72     20354\n",
      "\n"
     ]
    }
   ],
   "source": [
    "tuned_param = {'learning_rate': 0.1,\n",
    "               'max_depth': 3,\n",
    "               'colsample_bytree': 0.5,\n",
    "               'subsample': 1.0,\n",
    "               'min_child_weight': 1,\n",
    "               'n_estimators': 250, \n",
    "               'random_state': 41,\n",
    "               'booster': 'gbtree',\n",
    "               'objective': \"binary:logistic\"}\n",
    "\n",
    "dtrain = xgb.DMatrix(X_train_4, label = SMOTE_y)\n",
    "dtest = xgb.DMatrix(X_test_4, label = y_test_1)\n",
    "xbst2 = xgb.train(params = tuned_param,\n",
    "                   dtrain = dtrain,\n",
    "                   num_boost_round = 200,\n",
    "                   evals = [(dtest, 'eval'), (dtrain, 'train')],\n",
    "                   verbose_eval = 30)\n",
    "pred2 = xbst2.predict(dtest)\n",
    "pred2 = np.where(pred2 > 0.5, 1, 0)\n",
    "\n",
    "\n",
    "confusion_matrix2 = confusion_matrix(y_test_1, pred2)\n",
    "print(confusion_matrix2)\n",
    "report2 = classification_report(y_test_1, pred2)\n",
    "print(report2)\n"
   ]
  },
  {
   "cell_type": "code",
   "execution_count": 142,
   "id": "03eea863",
   "metadata": {},
   "outputs": [
    {
     "data": {
      "text/plain": [
       "<AxesSubplot:title={'center':'Feature importance'}, xlabel='F score', ylabel='Features'>"
      ]
     },
     "execution_count": 142,
     "metadata": {},
     "output_type": "execute_result"
    },
    {
     "data": {
      "image/png": "[encoded data removed]",
      "text/plain": [
       "<Figure size 540x273.6 with 1 Axes>"
      ]
     },
     "metadata": {},
     "output_type": "display_data"
    }
   ],
   "source": [
    "#plot importances\n",
    "xgb.plot_importance(xbst2, max_num_features = 10)"
   ]
  },
  {
   "cell_type": "code",
   "execution_count": 143,
   "id": "abf0424b",
   "metadata": {},
   "outputs": [
    {
     "name": "stdout",
     "output_type": "stream",
     "text": [
      "xgb_accuracy: 0.657610\n",
      "xgb_precision : 0.907458\n",
      "xgb_recall: 0.684382\n",
      "xgb_f1: 0.780289\n",
      "xgb_bal: 0.564462\n",
      "xgb_auc: 0.564462\n"
     ]
    }
   ],
   "source": [
    "from sklearn.metrics import precision_score\n",
    "from sklearn.metrics import recall_score\n",
    "from sklearn.metrics import f1_score\n",
    "# accuracy: (tp + tn) / (p + n)\n",
    "xgb_accuracy = accuracy_score(y_test_1, pred2)\n",
    "print('xgb_accuracy: %f' % xgb_accuracy)\n",
    "# precision tp / (tp + fp)\n",
    "xgb_precision = precision_score(y_test_1, pred2)\n",
    "print('xgb_precision : %f' % xgb_precision)\n",
    "# recall: tp / (tp + fn)\n",
    "xgb_recall = recall_score(y_test_1, pred2)\n",
    "print('xgb_recall: %f' % xgb_recall)\n",
    "# f1: 2 tp / (2 tp + fp + fn)\n",
    "xgb_f1 = f1_score(y_test_1,pred2)\n",
    "print('xgb_f1: %f' % xgb_f1)\n",
    "xgb_bal = metrics.balanced_accuracy_score(y_test_1, pred2)\n",
    "print('xgb_bal: %f' % xgb_bal)\n",
    "xgb_auc = metrics.roc_auc_score(y_test_1, pred2)\n",
    "print('xgb_auc: %f' % xgb_auc)"
   ]
  },
  {
   "cell_type": "code",
   "execution_count": null,
   "id": "5a5bb379",
   "metadata": {},
   "outputs": [],
   "source": []
  },
  {
   "cell_type": "markdown",
   "id": "5872a83c",
   "metadata": {},
   "source": [
    "# Evaluation visualiazation"
   ]
  },
  {
   "cell_type": "code",
   "execution_count": 144,
   "id": "c462f470",
   "metadata": {},
   "outputs": [
    {
     "data": {
      "text/html": [
       "<div>\n",
       "<style scoped>\n",
       "    .dataframe tbody tr th:only-of-type {\n",
       "        vertical-align: middle;\n",
       "    }\n",
       "\n",
       "    .dataframe tbody tr th {\n",
       "        vertical-align: top;\n",
       "    }\n",
       "\n",
       "    .dataframe thead th {\n",
       "        text-align: right;\n",
       "    }\n",
       "</style>\n",
       "<table border=\"1\" class=\"dataframe\">\n",
       "  <thead>\n",
       "    <tr style=\"text-align: right;\">\n",
       "      <th></th>\n",
       "      <th>precision</th>\n",
       "    </tr>\n",
       "  </thead>\n",
       "  <tbody>\n",
       "    <tr>\n",
       "      <th>logistic regression</th>\n",
       "      <td>0.904500</td>\n",
       "    </tr>\n",
       "    <tr>\n",
       "      <th>random forest</th>\n",
       "      <td>0.911500</td>\n",
       "    </tr>\n",
       "    <tr>\n",
       "      <th>Naive Bayes</th>\n",
       "      <td>0.895400</td>\n",
       "    </tr>\n",
       "    <tr>\n",
       "      <th>Gradient Boosting</th>\n",
       "      <td>0.915700</td>\n",
       "    </tr>\n",
       "    <tr>\n",
       "      <th>CNN</th>\n",
       "      <td>0.895314</td>\n",
       "    </tr>\n",
       "    <tr>\n",
       "      <th>Voting</th>\n",
       "      <td>0.911300</td>\n",
       "    </tr>\n",
       "    <tr>\n",
       "      <th>XGB</th>\n",
       "      <td>0.907458</td>\n",
       "    </tr>\n",
       "  </tbody>\n",
       "</table>\n",
       "</div>"
      ],
      "text/plain": [
       "                     precision\n",
       "logistic regression   0.904500\n",
       "random forest         0.911500\n",
       "Naive Bayes           0.895400\n",
       "Gradient Boosting     0.915700\n",
       "CNN                   0.895314\n",
       "Voting                0.911300\n",
       "XGB                   0.907458"
      ]
     },
     "execution_count": 144,
     "metadata": {},
     "output_type": "execute_result"
    }
   ],
   "source": [
    "# precision\n",
    "precision = [lr_scores[1],rf_scores[1],nb_scores[1],gb_scores[1], cnn_precision, ve_scores[1], xgb_precision]\n",
    "precision = pd.DataFrame(precision, index = ['logistic regression','random forest','Naive Bayes','Gradient Boosting', 'CNN', 'Voting','XGB'], columns = ['precision'])\n",
    "precision"
   ]
  },
  {
   "cell_type": "code",
   "execution_count": 145,
   "id": "f50474ed",
   "metadata": {},
   "outputs": [
    {
     "data": {
      "text/plain": [
       "<AxesSubplot:ylabel='precision'>"
      ]
     },
     "execution_count": 145,
     "metadata": {},
     "output_type": "execute_result"
    },
    {
     "data": {
      "image/png": "[encoded data removed]",
      "text/plain": [
       "<Figure size 540x273.6 with 1 Axes>"
      ]
     },
     "metadata": {},
     "output_type": "display_data"
    }
   ],
   "source": [
    "sns.barplot(x = precision.index, y = 'precision',data = precision)"
   ]
  },
  {
   "cell_type": "code",
   "execution_count": 146,
   "id": "1ced93cc",
   "metadata": {},
   "outputs": [
    {
     "data": {
      "text/html": [
       "<div>\n",
       "<style scoped>\n",
       "    .dataframe tbody tr th:only-of-type {\n",
       "        vertical-align: middle;\n",
       "    }\n",
       "\n",
       "    .dataframe tbody tr th {\n",
       "        vertical-align: top;\n",
       "    }\n",
       "\n",
       "    .dataframe thead th {\n",
       "        text-align: right;\n",
       "    }\n",
       "</style>\n",
       "<table border=\"1\" class=\"dataframe\">\n",
       "  <thead>\n",
       "    <tr style=\"text-align: right;\">\n",
       "      <th></th>\n",
       "      <th>recall</th>\n",
       "    </tr>\n",
       "  </thead>\n",
       "  <tbody>\n",
       "    <tr>\n",
       "      <th>logistic regression</th>\n",
       "      <td>0.611900</td>\n",
       "    </tr>\n",
       "    <tr>\n",
       "      <th>random forest</th>\n",
       "      <td>0.730000</td>\n",
       "    </tr>\n",
       "    <tr>\n",
       "      <th>Naive Bayes</th>\n",
       "      <td>0.477600</td>\n",
       "    </tr>\n",
       "    <tr>\n",
       "      <th>Gradient Boosting</th>\n",
       "      <td>0.681600</td>\n",
       "    </tr>\n",
       "    <tr>\n",
       "      <th>CNN</th>\n",
       "      <td>0.902444</td>\n",
       "    </tr>\n",
       "    <tr>\n",
       "      <th>Voting</th>\n",
       "      <td>0.717700</td>\n",
       "    </tr>\n",
       "    <tr>\n",
       "      <th>XGB</th>\n",
       "      <td>0.684382</td>\n",
       "    </tr>\n",
       "  </tbody>\n",
       "</table>\n",
       "</div>"
      ],
      "text/plain": [
       "                       recall\n",
       "logistic regression  0.611900\n",
       "random forest        0.730000\n",
       "Naive Bayes          0.477600\n",
       "Gradient Boosting    0.681600\n",
       "CNN                  0.902444\n",
       "Voting               0.717700\n",
       "XGB                  0.684382"
      ]
     },
     "execution_count": 146,
     "metadata": {},
     "output_type": "execute_result"
    }
   ],
   "source": [
    "# recall\n",
    "recall = [lr_scores[2],rf_scores[2],nb_scores[2],gb_scores[2], cnn_recall, ve_scores[2], xgb_recall]\n",
    "recall = pd.DataFrame(recall, index = ['logistic regression','random forest','Naive Bayes','Gradient Boosting', 'CNN', 'Voting','XGB'], columns = ['recall'])\n",
    "recall"
   ]
  },
  {
   "cell_type": "code",
   "execution_count": 147,
   "id": "af039700",
   "metadata": {},
   "outputs": [
    {
     "data": {
      "text/plain": [
       "<AxesSubplot:ylabel='recall'>"
      ]
     },
     "execution_count": 147,
     "metadata": {},
     "output_type": "execute_result"
    },
    {
     "data": {
      "image/png": "[encoded data removed]",
      "text/plain": [
       "<Figure size 540x273.6 with 1 Axes>"
      ]
     },
     "metadata": {},
     "output_type": "display_data"
    }
   ],
   "source": [
    "sns.barplot(x = recall.index, y = 'recall',data = recall)"
   ]
  },
  {
   "cell_type": "code",
   "execution_count": 148,
   "id": "b49b6561",
   "metadata": {},
   "outputs": [
    {
     "data": {
      "text/html": [
       "<div>\n",
       "<style scoped>\n",
       "    .dataframe tbody tr th:only-of-type {\n",
       "        vertical-align: middle;\n",
       "    }\n",
       "\n",
       "    .dataframe tbody tr th {\n",
       "        vertical-align: top;\n",
       "    }\n",
       "\n",
       "    .dataframe thead th {\n",
       "        text-align: right;\n",
       "    }\n",
       "</style>\n",
       "<table border=\"1\" class=\"dataframe\">\n",
       "  <thead>\n",
       "    <tr style=\"text-align: right;\">\n",
       "      <th></th>\n",
       "      <th>F1</th>\n",
       "    </tr>\n",
       "  </thead>\n",
       "  <tbody>\n",
       "    <tr>\n",
       "      <th>logistic regression</th>\n",
       "      <td>0.730000</td>\n",
       "    </tr>\n",
       "    <tr>\n",
       "      <th>random forest</th>\n",
       "      <td>0.810700</td>\n",
       "    </tr>\n",
       "    <tr>\n",
       "      <th>Naive Bayes</th>\n",
       "      <td>0.622900</td>\n",
       "    </tr>\n",
       "    <tr>\n",
       "      <th>Gradient Boosting</th>\n",
       "      <td>0.781500</td>\n",
       "    </tr>\n",
       "    <tr>\n",
       "      <th>CNN</th>\n",
       "      <td>0.898865</td>\n",
       "    </tr>\n",
       "    <tr>\n",
       "      <th>Voting</th>\n",
       "      <td>0.803000</td>\n",
       "    </tr>\n",
       "    <tr>\n",
       "      <th>XGB</th>\n",
       "      <td>0.780289</td>\n",
       "    </tr>\n",
       "  </tbody>\n",
       "</table>\n",
       "</div>"
      ],
      "text/plain": [
       "                           F1\n",
       "logistic regression  0.730000\n",
       "random forest        0.810700\n",
       "Naive Bayes          0.622900\n",
       "Gradient Boosting    0.781500\n",
       "CNN                  0.898865\n",
       "Voting               0.803000\n",
       "XGB                  0.780289"
      ]
     },
     "execution_count": 148,
     "metadata": {},
     "output_type": "execute_result"
    }
   ],
   "source": [
    "# F1\n",
    "F1 = [lr_scores[3],rf_scores[3],nb_scores[3],gb_scores[3],cnn_f1, ve_scores[3], xgb_f1]\n",
    "F1 = pd.DataFrame(F1, index = ['logistic regression','random forest','Naive Bayes','Gradient Boosting','CNN', 'Voting','XGB'], columns = ['F1'])\n",
    "F1"
   ]
  },
  {
   "cell_type": "code",
   "execution_count": 149,
   "id": "fa938d89",
   "metadata": {},
   "outputs": [
    {
     "data": {
      "text/plain": [
       "<AxesSubplot:ylabel='F1'>"
      ]
     },
     "execution_count": 149,
     "metadata": {},
     "output_type": "execute_result"
    },
    {
     "data": {
      "image/png": "[encoded data removed]",
      "text/plain": [
       "<Figure size 540x273.6 with 1 Axes>"
      ]
     },
     "metadata": {},
     "output_type": "display_data"
    }
   ],
   "source": [
    "sns.barplot(x = F1.index, y = 'F1',data = F1)"
   ]
  },
  {
   "cell_type": "code",
   "execution_count": 150,
   "id": "40b9d488",
   "metadata": {
    "scrolled": true
   },
   "outputs": [
    {
     "data": {
      "text/html": [
       "<div>\n",
       "<style scoped>\n",
       "    .dataframe tbody tr th:only-of-type {\n",
       "        vertical-align: middle;\n",
       "    }\n",
       "\n",
       "    .dataframe tbody tr th {\n",
       "        vertical-align: top;\n",
       "    }\n",
       "\n",
       "    .dataframe thead th {\n",
       "        text-align: right;\n",
       "    }\n",
       "</style>\n",
       "<table border=\"1\" class=\"dataframe\">\n",
       "  <thead>\n",
       "    <tr style=\"text-align: right;\">\n",
       "      <th></th>\n",
       "      <th>balanced accuracy</th>\n",
       "    </tr>\n",
       "  </thead>\n",
       "  <tbody>\n",
       "    <tr>\n",
       "      <th>logistic regression</th>\n",
       "      <td>0.548900</td>\n",
       "    </tr>\n",
       "    <tr>\n",
       "      <th>random forest</th>\n",
       "      <td>0.582800</td>\n",
       "    </tr>\n",
       "    <tr>\n",
       "      <th>Naive Bayes</th>\n",
       "      <td>0.516700</td>\n",
       "    </tr>\n",
       "    <tr>\n",
       "      <th>Gradient Boosting</th>\n",
       "      <td>0.591200</td>\n",
       "    </tr>\n",
       "    <tr>\n",
       "      <th>CNN</th>\n",
       "      <td>0.531328</td>\n",
       "    </tr>\n",
       "    <tr>\n",
       "      <th>Voting</th>\n",
       "      <td>0.580900</td>\n",
       "    </tr>\n",
       "    <tr>\n",
       "      <th>XGB</th>\n",
       "      <td>0.564462</td>\n",
       "    </tr>\n",
       "  </tbody>\n",
       "</table>\n",
       "</div>"
      ],
      "text/plain": [
       "                     balanced accuracy\n",
       "logistic regression           0.548900\n",
       "random forest                 0.582800\n",
       "Naive Bayes                   0.516700\n",
       "Gradient Boosting             0.591200\n",
       "CNN                           0.531328\n",
       "Voting                        0.580900\n",
       "XGB                           0.564462"
      ]
     },
     "execution_count": 150,
     "metadata": {},
     "output_type": "execute_result"
    }
   ],
   "source": [
    "# balanced accuracy\n",
    "bal_acc = [lr_scores[4],rf_scores[4],nb_scores[4],gb_scores[4],cnn_bal, ve_scores[4],xgb_bal]\n",
    "bal_acc = pd.DataFrame(bal_acc, index = ['logistic regression','random forest','Naive Bayes','Gradient Boosting','CNN', 'Voting','XGB'], columns = ['balanced accuracy'])\n",
    "bal_acc"
   ]
  },
  {
   "cell_type": "code",
   "execution_count": 151,
   "id": "2011be58",
   "metadata": {},
   "outputs": [
    {
     "data": {
      "text/plain": [
       "<AxesSubplot:ylabel='balanced accuracy'>"
      ]
     },
     "execution_count": 151,
     "metadata": {},
     "output_type": "execute_result"
    },
    {
     "data": {
      "image/png": "[encoded data removed]",
      "text/plain": [
       "<Figure size 540x273.6 with 1 Axes>"
      ]
     },
     "metadata": {},
     "output_type": "display_data"
    }
   ],
   "source": [
    "sns.barplot(x = bal_acc.index, y = 'balanced accuracy',data = bal_acc)"
   ]
  },
  {
   "cell_type": "code",
   "execution_count": 152,
   "id": "9e0ea263",
   "metadata": {},
   "outputs": [
    {
     "data": {
      "text/html": [
       "<div>\n",
       "<style scoped>\n",
       "    .dataframe tbody tr th:only-of-type {\n",
       "        vertical-align: middle;\n",
       "    }\n",
       "\n",
       "    .dataframe tbody tr th {\n",
       "        vertical-align: top;\n",
       "    }\n",
       "\n",
       "    .dataframe thead th {\n",
       "        text-align: right;\n",
       "    }\n",
       "</style>\n",
       "<table border=\"1\" class=\"dataframe\">\n",
       "  <thead>\n",
       "    <tr style=\"text-align: right;\">\n",
       "      <th></th>\n",
       "      <th>AUC</th>\n",
       "    </tr>\n",
       "  </thead>\n",
       "  <tbody>\n",
       "    <tr>\n",
       "      <th>logistic regression</th>\n",
       "      <td>0.576400</td>\n",
       "    </tr>\n",
       "    <tr>\n",
       "      <th>random forest</th>\n",
       "      <td>0.603900</td>\n",
       "    </tr>\n",
       "    <tr>\n",
       "      <th>Naive Bayes</th>\n",
       "      <td>0.563500</td>\n",
       "    </tr>\n",
       "    <tr>\n",
       "      <th>Gradient Boosting</th>\n",
       "      <td>0.602200</td>\n",
       "    </tr>\n",
       "    <tr>\n",
       "      <th>CNN</th>\n",
       "      <td>0.531328</td>\n",
       "    </tr>\n",
       "    <tr>\n",
       "      <th>Voting</th>\n",
       "      <td>0.601800</td>\n",
       "    </tr>\n",
       "    <tr>\n",
       "      <th>XGB</th>\n",
       "      <td>0.564462</td>\n",
       "    </tr>\n",
       "  </tbody>\n",
       "</table>\n",
       "</div>"
      ],
      "text/plain": [
       "                          AUC\n",
       "logistic regression  0.576400\n",
       "random forest        0.603900\n",
       "Naive Bayes          0.563500\n",
       "Gradient Boosting    0.602200\n",
       "CNN                  0.531328\n",
       "Voting               0.601800\n",
       "XGB                  0.564462"
      ]
     },
     "execution_count": 152,
     "metadata": {},
     "output_type": "execute_result"
    }
   ],
   "source": [
    "# auc\n",
    "auc = [lr_scores[5],rf_scores[5],nb_scores[5],gb_scores[5],cnn_auc, ve_scores[5],xgb_auc]\n",
    "auc = pd.DataFrame(auc, index = ['logistic regression','random forest','Naive Bayes','Gradient Boosting','CNN', 'Voting','XGB'], columns = ['AUC'])\n",
    "auc"
   ]
  },
  {
   "cell_type": "code",
   "execution_count": 153,
   "id": "01b72c15",
   "metadata": {},
   "outputs": [
    {
     "data": {
      "text/plain": [
       "<AxesSubplot:ylabel='AUC'>"
      ]
     },
     "execution_count": 153,
     "metadata": {},
     "output_type": "execute_result"
    },
    {
     "data": {
      "image/png": "[encoded data removed]",
      "text/plain": [
       "<Figure size 540x273.6 with 1 Axes>"
      ]
     },
     "metadata": {},
     "output_type": "display_data"
    }
   ],
   "source": [
    "sns.barplot(x = auc.index, y = 'AUC',data = auc)"
   ]
  },
  {
   "cell_type": "code",
   "execution_count": 154,
   "id": "f9eafc73",
   "metadata": {},
   "outputs": [],
   "source": [
    "X_train_4[select_fea].to_csv('training set.csv',index=False)\n",
    "X_test_4[select_fea].to_csv('testing set.csv',index=False)"
   ]
  },
  {
   "cell_type": "code",
   "execution_count": 155,
   "id": "23e8fe59",
   "metadata": {},
   "outputs": [],
   "source": [
    "SMOTE_y.to_csv('training y.csv',index=False)\n",
    "y_test_1.to_csv('testing y.csv',index=False)"
   ]
  },
  {
   "cell_type": "code",
   "execution_count": null,
   "id": "a911c525",
   "metadata": {},
   "outputs": [],
   "source": []
  }
 ],
 "metadata": {
  "interpreter": {
   "hash": "ac59ebe37160ed0dfa835113d9b8498d9f09ceb179beaac4002f036b9467c963"
  },
  "kernelspec": {
   "display_name": "Python 3 (ipykernel)",
   "language": "python",
   "name": "python3"
  },
  "language_info": {
   "codemirror_mode": {
    "name": "ipython",
    "version": 3
   },
   "file_extension": ".py",
   "mimetype": "text/x-python",
   "name": "python",
   "nbconvert_exporter": "python",
   "pygments_lexer": "ipython3",
   "version": "3.8.11"
  },
  "varInspector": {
   "cols": {
    "lenName": 16,
    "lenType": 16,
    "lenVar": 40
   },
   "kernels_config": {
    "python": {
     "delete_cmd_postfix": "",
     "delete_cmd_prefix": "del ",
     "library": "var_list.py",
     "varRefreshCmd": "print(var_dic_list())"
    },
    "r": {
     "delete_cmd_postfix": ") ",
     "delete_cmd_prefix": "rm(",
     "library": "var_list.r",
     "varRefreshCmd": "cat(var_dic_list()) "
    }
   },
   "types_to_exclude": [
    "module",
    "function",
    "builtin_function_or_method",
    "instance",
    "_Feature"
   ],
   "window_display": false
  }
 },
 "nbformat": 4,
 "nbformat_minor": 5
}
